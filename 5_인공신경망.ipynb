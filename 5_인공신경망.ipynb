{
  "nbformat": 4,
  "nbformat_minor": 0,
  "metadata": {
    "colab": {
      "provenance": [],
      "mount_file_id": "1txgIkCjVV2syvCXWNrXjApHjRHCjqUin",
      "authorship_tag": "ABX9TyN0Xrx5c7qu19QjYyq+yUDg",
      "include_colab_link": true
    },
    "kernelspec": {
      "name": "python3",
      "display_name": "Python 3"
    },
    "language_info": {
      "name": "python"
    },
    "accelerator": "GPU",
    "gpuClass": "standard"
  },
  "cells": [
    {
      "cell_type": "markdown",
      "metadata": {
        "id": "view-in-github",
        "colab_type": "text"
      },
      "source": [
        "<a href=\"https://colab.research.google.com/github/juyeeeeon/pytorch_newbie/blob/main/5_%EC%9D%B8%EA%B3%B5%EC%8B%A0%EA%B2%BD%EB%A7%9D.ipynb\" target=\"_parent\"><img src=\"https://colab.research.google.com/assets/colab-badge.svg\" alt=\"Open In Colab\"/></a>"
      ]
    },
    {
      "cell_type": "markdown",
      "source": [
        "# **5.1> 다층 퍼셉트론**"
      ],
      "metadata": {
        "id": "SwVT2tH-RcyJ"
      }
    },
    {
      "cell_type": "markdown",
      "source": [
        "# **5.1.1) 선형 회귀 (단층 퍼셉트론)**\n",
        "\n"
      ],
      "metadata": {
        "id": "9hJ0XGAcRiIY"
      }
    },
    {
      "cell_type": "code",
      "source": [
        "import torch\n",
        "import torch.nn as nn\n",
        "from matplotlib import pyplot as plt\n",
        "\n",
        "x = torch.FloatTensor(range(5)).unsqueeze(1)\n",
        "y = 2*x + torch.rand(5,1)\n",
        "\n",
        "print(x)\n",
        "print(y)"
      ],
      "metadata": {
        "id": "tOU3JfDjRhvE",
        "colab": {
          "base_uri": "https://localhost:8080/"
        },
        "outputId": "8a089ea3-1805-4f03-8dba-a79151edb23d"
      },
      "execution_count": null,
      "outputs": [
        {
          "output_type": "stream",
          "name": "stdout",
          "text": [
            "tensor([[0.],\n",
            "        [1.],\n",
            "        [2.],\n",
            "        [3.],\n",
            "        [4.]])\n",
            "tensor([[0.6841],\n",
            "        [2.2549],\n",
            "        [4.7262],\n",
            "        [6.9644],\n",
            "        [8.9893]])\n"
          ]
        }
      ]
    },
    {
      "cell_type": "code",
      "source": [
        "class LinearRegressor(nn.Module):\n",
        "  def __init__(self):\n",
        "    super().__init__()\n",
        "    # 선형 회귀 모델 y = wx+b를 nn.Linear(N, M, bias=True)로 표현 가능\n",
        "    # N : 입력 변수의 개수(x의 크기), M : 출력 변수의 개수(y의 크기기)\n",
        "    self.fc = nn.Linear(1,1,bias=True)\n",
        "\n",
        "  def forward(self, x):\n",
        "    y = self.fc(x)\n",
        "\n",
        "    return y"
      ],
      "metadata": {
        "id": "Qwzmr0vaUfA6"
      },
      "execution_count": null,
      "outputs": []
    },
    {
      "cell_type": "code",
      "source": [
        "model = LinearRegressor()\n",
        "learning_rate = 1e-3\n",
        "criterion = nn.MSELoss() #MSE를 손실 함수로 사용\n",
        "optimizer = torch.optim.SGD(model.parameters(), lr=learning_rate)"
      ],
      "metadata": {
        "id": "qfqCFEoVUfDd"
      },
      "execution_count": null,
      "outputs": []
    },
    {
      "cell_type": "code",
      "source": [
        "loss_stack = []\n",
        "for epoch in range(1001):\n",
        "  optimizer.zero_grad()\n",
        "\n",
        "  y_hat = model(x)\n",
        "  loss = criterion(y_hat, y)\n",
        "\n",
        "  loss.backward()\n",
        "  optimizer.step()\n",
        "  loss_stack.append(loss.item())\n",
        "\n",
        "  if epoch%100 == 0:\n",
        "    print(f'Epoch {epoch} : {loss.item()}')"
      ],
      "metadata": {
        "colab": {
          "base_uri": "https://localhost:8080/"
        },
        "id": "Kc-EawuQUfF7",
        "outputId": "df44ab12-2c4a-48d1-fc5c-04bd77c53823"
      },
      "execution_count": null,
      "outputs": [
        {
          "output_type": "stream",
          "name": "stdout",
          "text": [
            "Epoch 0 : 24.083770751953125\n",
            "Epoch 100 : 1.6535499095916748\n",
            "Epoch 200 : 0.14420923590660095\n",
            "Epoch 300 : 0.0426250621676445\n",
            "Epoch 400 : 0.03577049821615219\n",
            "Epoch 500 : 0.03529244661331177\n",
            "Epoch 600 : 0.0352453887462616\n",
            "Epoch 700 : 0.035228971391916275\n",
            "Epoch 800 : 0.03521613031625748\n",
            "Epoch 900 : 0.035204801708459854\n",
            "Epoch 1000 : 0.03519483283162117\n"
          ]
        }
      ]
    },
    {
      "cell_type": "code",
      "source": [
        "with torch.no_grad():\n",
        "  y_hat = model(x)"
      ],
      "metadata": {
        "id": "rIyXLXHlUfIR"
      },
      "execution_count": null,
      "outputs": []
    },
    {
      "cell_type": "code",
      "source": [
        "plt.figure(figsize=(10,5))\n",
        "plt.subplot(121)\n",
        "plt.plot(loss_stack)\n",
        "plt.title(\"Loss\")\n",
        "\n",
        "plt.subplot(122)\n",
        "plt.plot(x, y, '.b')\n",
        "plt.plot(x, y_hat, 'r-')\n",
        "plt.legend(['ground truth', 'prediction'])\n",
        "plt.title(\"Prediction\")\n",
        "plt.show()"
      ],
      "metadata": {
        "colab": {
          "base_uri": "https://localhost:8080/",
          "height": 336
        },
        "id": "uWy60mbQUfKp",
        "outputId": "f41f4934-35f4-4887-e947-b39464234e4a"
      },
      "execution_count": null,
      "outputs": [
        {
          "output_type": "display_data",
          "data": {
            "text/plain": [
              "<Figure size 720x360 with 2 Axes>"
            ],
            "image/png": "[encoded data removed]"
          },
          "metadata": {
            "needs_background": "light"
          }
        }
      ]
    },
    {
      "cell_type": "markdown",
      "source": [
        "# **5.1.2) 집값 예측하기**"
      ],
      "metadata": {
        "id": "aqBCnzzFYEJf"
      }
    },
    {
      "cell_type": "code",
      "source": [
        "import pandas as pd\n",
        "import numpy as np\n",
        "from sklearn.model_selection import train_test_split\n",
        "import torch\n",
        "from torch import nn, optim\n",
        "from torch.utils.data import DataLoader, Dataset\n",
        "import torch.nn.functional as F\n",
        "from sklearn.metrics import mean_squared_error\n",
        "import matplotlib.pyplot as plt"
      ],
      "metadata": {
        "id": "DENl4VBJUfNA"
      },
      "execution_count": null,
      "outputs": []
    },
    {
      "cell_type": "code",
      "source": [
        "df = pd.read_csv('../data/reg.csv', index_col=[0])"
      ],
      "metadata": {
        "id": "qEBwnv26UfPm"
      },
      "execution_count": null,
      "outputs": []
    },
    {
      "cell_type": "code",
      "source": [
        "X = df.drop('Price', axis=1).to_numpy()\n",
        "Y = df['Price'].to_numpy().reshape((-1, 1))"
      ],
      "metadata": {
        "id": "9gNemxV5UfSK"
      },
      "execution_count": null,
      "outputs": []
    },
    {
      "cell_type": "code",
      "source": [
        "X_train, X_test, Y_train, Y_test = train_test_split(X, Y, test_size=0.5)"
      ],
      "metadata": {
        "id": "nz0Ks3_qUfUh"
      },
      "execution_count": null,
      "outputs": []
    },
    {
      "cell_type": "code",
      "source": [
        "class TensorData(Dataset):\n",
        "  def __init__(self, x_data, y_data):\n",
        "    self.x_data = torch.FloatTensor(x_data)\n",
        "    self.y_data = torch.FloatTensor(y_data)\n",
        "    self.len = self.y_data.shape[0]\n",
        "\n",
        "  def __getitem__(self, index):\n",
        "    return self.x_data[index], self.y_data[index]\n",
        "  \n",
        "  def __len__(self):\n",
        "    return self.len"
      ],
      "metadata": {
        "id": "AmhoDkBaUfXI"
      },
      "execution_count": null,
      "outputs": []
    },
    {
      "cell_type": "code",
      "source": [
        "trainsets = TensorData(X_train, Y_train)\n",
        "trainloader = torch.utils.data.DataLoader(trainsets, batch_size=32, shuffle=True)\n",
        "\n",
        "testsets = TensorData(X_test, Y_test)\n",
        "testloader = torch.utils.data.DataLoader(testsets, batch_size=32, shuffle=False)"
      ],
      "metadata": {
        "id": "-WUqRX6zUfZu"
      },
      "execution_count": null,
      "outputs": []
    },
    {
      "cell_type": "code",
      "source": [
        "class Regressor(nn.Module):\n",
        "  def __init__(self):\n",
        "    super().__init__()\n",
        "    self.fc1 = nn.Linear(13, 50, bias=True)\n",
        "    self.fc2 = nn.Linear(50, 30, bias=True)\n",
        "    self.fc3 = nn.Linear(30, 1, bias=True)\n",
        "    self.dropout = nn.Dropout(0.5)\n",
        "\n",
        "  def forward(self, x):\n",
        "    x = F.relu(self.fc1(x))\n",
        "    x = self.dropout(F.relu(self.fc2(x)))\n",
        "    x = F.relu(self.fc3(x))\n",
        "    return x"
      ],
      "metadata": {
        "id": "VB75ePELUfcF"
      },
      "execution_count": null,
      "outputs": []
    },
    {
      "cell_type": "code",
      "source": [
        "model = Regressor()\n",
        "criterion = nn.MSELoss()\n",
        "optimizer = optim.Adam(model.parameters(), lr=0.001, weight_decay=1e-7)"
      ],
      "metadata": {
        "id": "XSNNJogZUfev"
      },
      "execution_count": null,
      "outputs": []
    },
    {
      "cell_type": "code",
      "source": [
        "loss_ = []\n",
        "n = len(trainloader)\n",
        "for epoch in range(400):\n",
        "  running_loss = 0.0\n",
        "  for data in trainloader:\n",
        "    inputs, values = data\n",
        "    optimizer.zero_grad()\n",
        "    outputs = model(inputs)\n",
        "    loss = criterion(outputs, values)\n",
        "    loss.backward()\n",
        "    optimizer.step()\n",
        "    running_loss += loss.item()\n",
        "\n",
        "  loss_.append(running_loss/n)"
      ],
      "metadata": {
        "id": "jkWVMOzxUfhU"
      },
      "execution_count": null,
      "outputs": []
    },
    {
      "cell_type": "code",
      "source": [
        "plt.plot(loss_)\n",
        "plt.title(\"Training Loss\")\n",
        "plt.xlabel(\"epoch\")\n",
        "plt.show()"
      ],
      "metadata": {
        "colab": {
          "base_uri": "https://localhost:8080/",
          "height": 295
        },
        "id": "QsldQUXHUfj6",
        "outputId": "889d4ffe-d7d1-40ad-e026-fb617594559c"
      },
      "execution_count": null,
      "outputs": [
        {
          "output_type": "display_data",
          "data": {
            "text/plain": [
              "<Figure size 432x288 with 1 Axes>"
            ],
            "image/png": "[encoded data removed]"
          },
          "metadata": {
            "needs_background": "light"
          }
        }
      ]
    },
    {
      "cell_type": "code",
      "source": [
        "def evaluation(dataloader):\n",
        "    \n",
        "    predictions = torch.tensor([], dtype=torch.float) # 예측값을 저장하는 텐서\n",
        "    actual = torch.tensor([], dtype=torch.float) # 실제값을 저장하는 텐서\n",
        "        \n",
        "    with torch.no_grad():\n",
        "        model.eval() # 평가를 할 때에는 .eval() 반드시 사용해야 한다.\n",
        "        for data in dataloader:\n",
        "            inputs, values = data\n",
        "            outputs = model(inputs)\n",
        "\n",
        "            predictions = torch.cat((predictions, outputs), 0) # cat을 통해 예측값을 누적\n",
        "            actual = torch.cat((actual, values), 0) # cat을 통해 실제값을 누적\n",
        "    \n",
        "    predictions = predictions.numpy() # 넘파이 배열로 변경\n",
        "    actual = actual.numpy() # 넘파이 배열로 변경\n",
        "    rmse = np.sqrt(mean_squared_error(predictions, actual)) # sklearn을 이용하여 RMSE 계산\n",
        "    \n",
        "    return rmse  \n",
        "\n",
        "# 평가 시 .eval()을 사용해야 하는 이유\n",
        "# 평가 시에는 온전한 모델로 평가를 해야하는데 .eval()이 아닌 .train()인 경우 드랍아웃이 활성화 되어 있다.\n",
        "# 따라서 드랍아웃이나 배치 정규화 등과 같이 학습 시에만 사용하는 기술들을 평가 시에는 비활성화 해야만 한다."
      ],
      "metadata": {
        "id": "Rg6S1C_BUfmf"
      },
      "execution_count": null,
      "outputs": []
    },
    {
      "cell_type": "code",
      "source": [
        "train_rmse = evaluation(trainloader) # 학습 데이터의 RMSE\n",
        "test_rmse = evaluation(testloader) # 시험 데이터의 RMSE\n",
        "\n",
        "print(\"Train RMSE: \",train_rmse)\n",
        "print(\"Test RMSE: \",test_rmse)\n",
        "\n",
        "# 예시를 위한 단순 비교입니다. 실제 연구에서는 디테일한 비교가 필요합니다.\n",
        "# 데이터를 무작위로 나누고 모델의 초기값도 random initial parameter를 사용했기 때문에 학습을 할 때 마다 결과가 다르게 나올 수 있습니다.\n",
        "# 이 강의에서는 학습의 흐름(for문)과 모델(Regressor) 부분을 주의 깊게 보시면 됩니다."
      ],
      "metadata": {
        "colab": {
          "base_uri": "https://localhost:8080/"
        },
        "id": "htwR7H0aUfpV",
        "outputId": "e2c956ac-768f-43ec-a4cd-3591d0530843"
      },
      "execution_count": null,
      "outputs": [
        {
          "output_type": "stream",
          "name": "stdout",
          "text": [
            "Train RMSE:  0.06694306\n",
            "Test RMSE:  0.12023918\n"
          ]
        }
      ]
    },
    {
      "cell_type": "markdown",
      "source": [
        "# **5.2>  활성화 함수**"
      ],
      "metadata": {
        "id": "djA51dozmHUC"
      }
    },
    {
      "cell_type": "markdown",
      "source": [
        "# **5.2.1) 활성화 함수가 필요한 이유**"
      ],
      "metadata": {
        "id": "c1tO8e__mOOj"
      }
    },
    {
      "cell_type": "markdown",
      "source": [
        "# **5.2.2) 선형함수**"
      ],
      "metadata": {
        "id": "KKsX4nFfmmF9"
      }
    },
    {
      "cell_type": "markdown",
      "source": [
        "# **5.2.3) 시그모이드(sigmoid) 함수**"
      ],
      "metadata": {
        "id": "FzPW_7NcmpMt"
      }
    },
    {
      "cell_type": "markdown",
      "source": [
        "torch.sigmoid() / nn.Sigmoid()\n",
        "\n",
        "모든 입력값에 대해 0과 1 사이로 변환하는 역할을 함"
      ],
      "metadata": {
        "id": "mjhZPwSLnDqp"
      }
    },
    {
      "cell_type": "markdown",
      "source": [
        "# **5.2.4) tanh 함수**"
      ],
      "metadata": {
        "id": "Pr9oyoa2nJFE"
      }
    },
    {
      "cell_type": "markdown",
      "source": [
        "torch.tanh() / nn.Tanh()\n",
        "\n",
        "시그모이드 함수와 형태는 유사하지만 -1과 1 사이의 값을 취할 수 있음"
      ],
      "metadata": {
        "id": "olVIB_xmnbHH"
      }
    },
    {
      "cell_type": "markdown",
      "source": [
        "# **5.2.5) ReLu 함수**"
      ],
      "metadata": {
        "id": "7FfxEcOQnjg7"
      }
    },
    {
      "cell_type": "markdown",
      "source": [
        "torch.nn.functional.relu() / nn.ReLu()\n",
        "\n",
        "두 개의 직선을 이어 만든 것으로 비선형 함수지만 선형과 매우 유사한 성질을 가지고 있음. 따라서 계산이 쉽고 미분도 쉽게 풀 수 있다.\n",
        "모델 최적화에 유용한 선형적 성질들을 보존하고 있어서 최적화를 쉽게 할 수 있다.\n",
        "가장 널리 사용. 성능이 매우 좋음."
      ],
      "metadata": {
        "id": "AI_nylc7npTP"
      }
    },
    {
      "cell_type": "markdown",
      "source": [
        "# **5.2.6) Softmax 함수**"
      ],
      "metadata": {
        "id": "0N7DhqrVn_0T"
      }
    },
    {
      "cell_type": "markdown",
      "source": [
        "torch.nn.functional.softmax() / nn.Softmax()\n",
        "\n",
        "벡터 x에 대하여 모든 성분이 항상 양수이며, 그 합이 1이 되도록 변환한다.\n",
        "따라서 음수값이 나오더라도 항상 양수가 나오도록 지수 함수를 이용한 함수.\n",
        "벡터 형태로 예측값이 나오는 다중 분류문제에서 자주 사용"
      ],
      "metadata": {
        "id": "JcYDKrnroE2d"
      }
    },
    {
      "cell_type": "markdown",
      "source": [
        "# **5.2.7) 기타 활성화 함수**"
      ],
      "metadata": {
        "id": "uhs_abE3oUDP"
      }
    },
    {
      "cell_type": "markdown",
      "source": [
        "nn.ELU()\n",
        "\n",
        "nn.LeakyReLU()\n",
        "\n",
        "nn.LogSigmoid()\n",
        "\n",
        "nn.SELU()\n",
        "\n",
        ".."
      ],
      "metadata": {
        "id": "muQ7lcCwoZTn"
      }
    },
    {
      "cell_type": "markdown",
      "source": [
        "# **5.3> 손실 함수**"
      ],
      "metadata": {
        "id": "g9NXzemHog7a"
      }
    },
    {
      "cell_type": "markdown",
      "source": [
        "# **5.3.1) MAE**"
      ],
      "metadata": {
        "id": "Xf3I5CKZoo2H"
      }
    },
    {
      "cell_type": "markdown",
      "source": [
        "torch.nn.L1Loss\n",
        "\n",
        "유사도, 거리측정, 회귀 문제 등에 많이 사용되는 손실 함수"
      ],
      "metadata": {
        "id": "Jai_6WJToo4m"
      }
    },
    {
      "cell_type": "markdown",
      "source": [
        "# **5.3.2) MSE**"
      ],
      "metadata": {
        "id": "_keHkXAeoo7U"
      }
    },
    {
      "cell_type": "markdown",
      "source": [
        "torch.nn.MSELoss\n",
        "\n",
        "MAE와 함께 유사도, 거리측정, 회귀 문제 등에 많이 사용되는 손실함수"
      ],
      "metadata": {
        "id": "jMHgUmbdoo9z"
      }
    },
    {
      "cell_type": "markdown",
      "source": [
        "# **5.3.3) Cross Entropy Loss**"
      ],
      "metadata": {
        "id": "KekqxJa5opAe"
      }
    },
    {
      "cell_type": "markdown",
      "source": [
        "torch.nn.CrossEntropyLoss\n",
        "\n",
        "주로 다중 분류 문제에서 사용.\n",
        "유의할 점은 파이토치에서는 예측값은 벡터 형태, 타깃값은 라벨 형태로 세팅해야 에러가 나지 않는다."
      ],
      "metadata": {
        "id": "dMdLk_9FopC2"
      }
    },
    {
      "cell_type": "markdown",
      "source": [
        "# **5.3.4) 기타 손실 함수**"
      ],
      "metadata": {
        "id": "NF8zFIWbopGe"
      }
    },
    {
      "cell_type": "markdown",
      "source": [
        "nn.BCELoss\n",
        "\n",
        "nn.NLLoss\n",
        "\n",
        "nn.KLDivLoss\n",
        "\n",
        ".."
      ],
      "metadata": {
        "id": "Sj8PlgjGpSXJ"
      }
    },
    {
      "cell_type": "markdown",
      "source": [
        "# **5.4> 최적화 기법**"
      ],
      "metadata": {
        "id": "VwElG76ipWhx"
      }
    },
    {
      "cell_type": "markdown",
      "source": [
        "손실 함수값이 가장 작게 나오게 하는 변수(w*)를 찾는 것이 목적\n",
        "\n",
        "경사하강법(gradient descent)\n",
        "\n",
        "경사를 의미하는 미분을 이용해 w를 업데이터 하는데, 이때 하강에 대한 보폭을 정해주는 값이 학습률(learning rate 또는 step size)이다."
      ],
      "metadata": {
        "id": "OJyU9to2paTX"
      }
    },
    {
      "cell_type": "markdown",
      "source": [
        "# **5.4.1) 확률적 경사하강법(SGD)**"
      ],
      "metadata": {
        "id": "sr3Vr89IqKZ1"
      }
    },
    {
      "cell_type": "markdown",
      "source": [
        "torch.optim.SGD\n",
        "\n",
        "속도와 메모리를 개선하기 위해 데이터를 나눠서 학습하는 방법으로 학습을 진행하는데\n",
        "나눠진 데이터 세트를 미니 배치(mini-batch)라고 하며, 미니 배치를 이용해 경사하강법을 진행하는 것을 확률적 경사하강법(stochastic gradient descent:SGD)라고 한다.\n",
        "\n",
        "일반 경사하강법과 다른 점은 데이터 전체를 한 번에 사용하는지 나눠서 사용하는 지의 차이\n",
        "\n",
        "확률적이라고 하는 이유는 미니 배치를 나눌 때 데이터를 무작위로 섞어서 나누기 때문."
      ],
      "metadata": {
        "id": "Q3rRy1jbqz_J"
      }
    },
    {
      "cell_type": "code",
      "source": [
        "optimizer = torch.optim.SGD(model.parameters(), lr=0.01)"
      ],
      "metadata": {
        "id": "oH59PjueqO6i"
      },
      "execution_count": null,
      "outputs": []
    },
    {
      "cell_type": "markdown",
      "source": [
        "# **5.4.2) 다양한 최적화 기법**"
      ],
      "metadata": {
        "id": "HSD8yD0hr0cG"
      }
    },
    {
      "cell_type": "markdown",
      "source": [
        "경사하강법과 SGD는 학습률이 고정되어 있기 때문에 계산이 비효율적일 수 있음\n",
        "\n",
        "더 효율적이 최적호를 위해 모멘텀+스케줄링이나 Adam을 사용\n",
        "\n",
        "기타: torch.optim.Adadelta\n",
        "\n",
        "torch.optim.Adagrad\n",
        "\n",
        "torch.optim.RMSprop\n",
        "\n",
        "..."
      ],
      "metadata": {
        "id": "S8P6tSfusCl4"
      }
    },
    {
      "cell_type": "code",
      "source": [
        "#momentum\n",
        "optimizer = torch.optim.SGD(model.parameters(), lr=0.01, momentum=0.9)"
      ],
      "metadata": {
        "id": "Lh2F-N6lUfsA"
      },
      "execution_count": null,
      "outputs": []
    },
    {
      "cell_type": "code",
      "source": [
        "#Adam\n",
        "optimizer = torch.optim.Adam(model.parameters(), lr=0.01)"
      ],
      "metadata": {
        "id": "3P3Eer6hUfuh"
      },
      "execution_count": null,
      "outputs": []
    },
    {
      "cell_type": "markdown",
      "source": [
        "# **5.4.3) 스케줄링**"
      ],
      "metadata": {
        "id": "4tDEvdwSswEb"
      }
    },
    {
      "cell_type": "markdown",
      "source": [
        "MultiplicativeLR\n",
        "\n",
        "LambdaLR\n",
        "\n",
        "StepLR\n",
        "\n",
        "MultiStepLR\n",
        "\n",
        "ExponentialLR\n",
        "\n",
        "CosineAnnealingLR"
      ],
      "metadata": {
        "id": "Yaw2F7zCtttX"
      }
    },
    {
      "cell_type": "code",
      "source": [
        "optimizer = torch.optim.SGD(model.parameters(), lr=0.1, momentum=0.9)\n",
        "scheduler = optim.lr_scheduler.StepLR(optimizer, step_size=30, gamma=0.1)\n",
        "#중략\n",
        "for epoch in range(400):\n",
        "  running_loss = 0.0\n",
        "  for data in trainloader:\n",
        "    inputs, values = data\n",
        "    optimizer.zero_grad()\n",
        "    outputs = model(inputs)\n",
        "    loss = criterion(outputs, values)\n",
        "    loss.backward()\n",
        "    optimizer.step()\n",
        "    #중략\n",
        "  scheduler.step()"
      ],
      "metadata": {
        "id": "Nk4MGJScsuyX"
      },
      "execution_count": null,
      "outputs": []
    },
    {
      "cell_type": "markdown",
      "source": [
        "# **5.4.4) MADGRAD**"
      ],
      "metadata": {
        "id": "iMXB6IXKt-Cf"
      }
    },
    {
      "cell_type": "markdown",
      "source": [
        "madgrad.MADGRAD(모델 변수, lr=학습률(default:0.01), momentum=모멘텀지수(default:0.9), weight_decay=L2페널티(default:0))"
      ],
      "metadata": {
        "id": "OBi4L-HwuGFB"
      }
    },
    {
      "cell_type": "code",
      "source": [
        "!pip install madgrad"
      ],
      "metadata": {
        "id": "p5MR59o7UfxM",
        "colab": {
          "base_uri": "https://localhost:8080/"
        },
        "outputId": "21b2d2d0-2fd7-42f5-c4cb-c07e61bf0c23"
      },
      "execution_count": null,
      "outputs": [
        {
          "output_type": "stream",
          "name": "stdout",
          "text": [
            "Looking in indexes: https://pypi.org/simple, https://us-python.pkg.dev/colab-wheels/public/simple/\n",
            "Requirement already satisfied: madgrad in /usr/local/lib/python3.8/dist-packages (1.2)\n"
          ]
        }
      ]
    },
    {
      "cell_type": "code",
      "source": [
        "import madgrad\n",
        "optimizer = madgrad.MADGRAD(model.parameters())"
      ],
      "metadata": {
        "id": "fcRmOAifUfz5"
      },
      "execution_count": null,
      "outputs": []
    },
    {
      "cell_type": "markdown",
      "source": [
        "# **5.5> 교차 검증**"
      ],
      "metadata": {
        "id": "quy0KsfSugnO"
      }
    },
    {
      "cell_type": "markdown",
      "source": [
        "# **5.5.1) 교차 검증을 통한 집값 예측 평가 모델 평가**"
      ],
      "metadata": {
        "id": "KMJcUbbzu0du"
      }
    },
    {
      "cell_type": "code",
      "source": [
        "import pandas as pd\n",
        "import numpy as np\n",
        "from sklearn.model_selection import train_test_split\n",
        "import torch\n",
        "from torch import nn, optim\n",
        "from torch.utils.data import DataLoader, Dataset\n",
        "import torch.nn.functional as F\n",
        "from sklearn.model_selection import KFold\n",
        "from sklearn.metrics import mean_squared_error\n",
        "import matplotlib.pyplot as plt"
      ],
      "metadata": {
        "id": "eyU55WnmUf2Y"
      },
      "execution_count": null,
      "outputs": []
    },
    {
      "cell_type": "code",
      "source": [
        "#데이터 프레임을 넘파이 배열로 만들기\n",
        "df = pd.read_csv('../data/reg.csv', index_col=[0])\n",
        "\n",
        "X = df.drop('Price', axis=1).to_numpy()\n",
        "Y = df['Price'].to_numpy().reshape((-1, 1))"
      ],
      "metadata": {
        "id": "mhUTP9Utwg2c"
      },
      "execution_count": null,
      "outputs": []
    },
    {
      "cell_type": "code",
      "source": [
        "#텐서 데이터 만들기\n",
        "class TensorData(Dataset):\n",
        "  def __init__(self, x_data, y_data):\n",
        "    self.x_data = torch.FloatTensor(x_data)\n",
        "    self.y_data = torch.FloatTensor(y_data)\n",
        "    self.len = self.y_data.shape[0]\n",
        "\n",
        "  def __getitem__(self, index):\n",
        "    return self.x_data[index], self.y_data[index]\n",
        "\n",
        "  def __len__(self):\n",
        "    return self.len\n",
        "\n",
        "X_train, X_test, Y_train, Y_test = train_test_split(X, Y, test_size=0.7)\n",
        "\n",
        "trainset = TensorData(X_train, Y_train)\n",
        "testset = TensorData(X_test, Y_test)\n",
        "\n",
        "testloader = torch.utils.data.DataLoader(testset, batch_size=32, shuffle=False)"
      ],
      "metadata": {
        "id": "IRGRzisbwg4q"
      },
      "execution_count": null,
      "outputs": []
    },
    {
      "cell_type": "code",
      "source": [
        "#모델 구축\n",
        "class Regressor(nn.Module):\n",
        "  def __init__(self):\n",
        "    super().__init__()\n",
        "    self.fc1 = nn.Linear(13, 50, bias=True)\n",
        "    self.fc2 = nn.Linear(50, 30, bias=True)\n",
        "    self.fc3 = nn.Linear(30, 1, bias=True)\n",
        "\n",
        "  def forward(self, x):\n",
        "    x = self.fc1(x)\n",
        "    x = self.fc2(x)\n",
        "    x = self.fc3(x)\n",
        "    return x"
      ],
      "metadata": {
        "id": "h3Q3Fj62wg7N"
      },
      "execution_count": null,
      "outputs": []
    },
    {
      "cell_type": "code",
      "source": [
        "#손실함수와 교차 검증 정의\n",
        "kfold = KFold(n_splits=3, shuffle=True)\n",
        "criterion = nn.MSELoss()"
      ],
      "metadata": {
        "id": "cDPuwcbWwg99"
      },
      "execution_count": null,
      "outputs": []
    },
    {
      "cell_type": "code",
      "source": [
        "#평가 함수 정의\n",
        "def evaluation(dataloader):\n",
        "  predictions = torch.tensor([], dtype=torch.float)\n",
        "  actual = torch.tensor([], dtype=torch.float)\n",
        "\n",
        "  with torch.no_grad():\n",
        "    model.eval()\n",
        "    for data in dataloader:\n",
        "      inputs, values = data\n",
        "      outputs = model(inputs)\n",
        "\n",
        "      predictions = torch.cat((predictions, outputs), 0)\n",
        "      actual = torch.cat((actual, values), 0)\n",
        "\n",
        "    predictions = predictions.numpy()\n",
        "    actual = actual.numpy()\n",
        "\n",
        "    rmse = np.sqrt(mean_squared_error(predictions, actual)) # sklearn을 이용하여 RMSE 계산\n",
        "\n",
        "    model.train()\n",
        "    \n",
        "    return rmse"
      ],
      "metadata": {
        "id": "3mQAGjDKwhAN"
      },
      "execution_count": null,
      "outputs": []
    },
    {
      "cell_type": "code",
      "source": [
        "#교차 검증을 이용한 학습 및 평가\n",
        "validation_loss = []\n",
        "for fold, (train_idx, val_idx) in enumerate(kfold.split(trainset)):\n",
        "\n",
        "  train_subsampler = torch.utils.data.SubsetRandomSampler(train_idx)\n",
        "  val_subsampler = torch.utils.data.SubsetRandomSampler(val_idx)\n",
        "\n",
        "  trainloader= torch.utils.data.DataLoader(trainset, batch_size=32, sampler=train_subsampler)\n",
        "  valloader = torch.utils.data.DataLoader(trainset, batch_size=32, sampler=val_subsampler)\n",
        "\n",
        "  model = Regressor()\n",
        "  optimizer = optim.Adam(model.parameters(), lr=0.001, weight_decay=1e-7)\n",
        "\n",
        "  for epoch in range(400):\n",
        "    for data in trainloader:\n",
        "      inputs, values = data\n",
        "      optimizer.zero_grad()\n",
        "\n",
        "      outputs = model(inputs)\n",
        "      loss = criterion(outputs, values)\n",
        "      loss.backward()\n",
        "      optimizer.step()\n",
        "  \n",
        "  train_rmse = evaluation(trainloader)\n",
        "  val_rmse = evaluation(valloader)\n",
        "\n",
        "  print(\"k-fold\", fold, \"Train Loss: %.4f, Validation Loss: %.4f\"%(train_rmse, val_rmse))\n",
        "  \n",
        "  validation_loss.append(val_rmse)"
      ],
      "metadata": {
        "colab": {
          "base_uri": "https://localhost:8080/"
        },
        "id": "ZU0vbb4_whDF",
        "outputId": "223e11ee-9339-44f5-e417-bed4a17ca4fe"
      },
      "execution_count": null,
      "outputs": [
        {
          "output_type": "stream",
          "name": "stdout",
          "text": [
            "k-fold 0 Train Loss: 0.1088, Validation Loss: 0.1459\n",
            "k-fold 1 Train Loss: 0.1076, Validation Loss: 0.1435\n",
            "k-fold 2 Train Loss: 0.1232, Validation Loss: 0.1387\n"
          ]
        }
      ]
    },
    {
      "cell_type": "code",
      "source": [
        "#검증 점수 산출\n",
        "validation_loss = np.array(validation_loss)\n",
        "mean = np.mean(validation_loss)\n",
        "std = np.std(validation_loss)\n",
        "\n",
        "print(\"Validation Score: %.4f, +- %.4f\" % (mean, std))"
      ],
      "metadata": {
        "colab": {
          "base_uri": "https://localhost:8080/"
        },
        "id": "134swEP6whFL",
        "outputId": "c36d4701-c179-40e4-b2b6-465401920d4f"
      },
      "execution_count": null,
      "outputs": [
        {
          "output_type": "stream",
          "name": "stdout",
          "text": [
            "Validation Score: 0.1427, +- 0.0030\n"
          ]
        }
      ]
    },
    {
      "cell_type": "code",
      "source": [
        "#모델 평가\n",
        "trainloader = torch.utils.data.DataLoader(trainset, batch_size=32, shuffle=False)\n",
        "\n",
        "train_rmse = evaluation(trainloader)\n",
        "test_rmse = evaluation(testloader)\n",
        "\n",
        "print(\"Train RMSE: %.4f\" % train_rmse)\n",
        "print(\"Test RMSE: %.4f\" % test_rmse)"
      ],
      "metadata": {
        "colab": {
          "base_uri": "https://localhost:8080/"
        },
        "id": "3gU_moszwhHZ",
        "outputId": "e31b4b36-908e-4fec-fcfb-942476064489"
      },
      "execution_count": null,
      "outputs": [
        {
          "output_type": "stream",
          "name": "stdout",
          "text": [
            "Train RMSE: 0.1285\n",
            "Test RMSE: 0.1374\n"
          ]
        }
      ]
    },
    {
      "cell_type": "markdown",
      "source": [
        "# **5.6> 모델 구조 및 가중치 확인**"
      ],
      "metadata": {
        "id": "w-MxM-9i5QTP"
      }
    },
    {
      "cell_type": "markdown",
      "source": [
        "# **5.6.1) 모델 구조**"
      ],
      "metadata": {
        "id": "wbcG7nC95ZvB"
      }
    },
    {
      "cell_type": "code",
      "source": [
        "!pip install torchsummary"
      ],
      "metadata": {
        "id": "WaUAWcBNUf4w",
        "colab": {
          "base_uri": "https://localhost:8080/"
        },
        "outputId": "0c58e912-8038-42ac-f9b5-67fa2e1c0578"
      },
      "execution_count": null,
      "outputs": [
        {
          "output_type": "stream",
          "name": "stdout",
          "text": [
            "Looking in indexes: https://pypi.org/simple, https://us-python.pkg.dev/colab-wheels/public/simple/\n",
            "Requirement already satisfied: torchsummary in /usr/local/lib/python3.8/dist-packages (1.5.1)\n"
          ]
        }
      ]
    },
    {
      "cell_type": "code",
      "source": [
        "import torch\n",
        "from torch import nn\n",
        "import torch.nn.functional as F\n",
        "from torchsummary import summary"
      ],
      "metadata": {
        "id": "Rmu3k6ud5jmC"
      },
      "execution_count": null,
      "outputs": []
    },
    {
      "cell_type": "code",
      "source": [
        "#모델 구축\n",
        "class Regressor(nn.Module):\n",
        "  def __init__(self):\n",
        "    super().__init__()\n",
        "    self.fc1 = nn.Linear(13, 50, bias=True)\n",
        "    self.fc2 = nn.Linear(50, 30, bias=True)\n",
        "    self.fc3 = nn.Linear(30, 1, bias=True)\n",
        "    self.dropout = nn.Dropout(0.5)\n",
        "\n",
        "  def forward(self, x):\n",
        "    x = F.relu(self.fc1(x))\n",
        "    x = self.dropout(F.relu(self.fc2(x)))\n",
        "    x = F.relu(self.fc3(x))\n",
        "    \n",
        "    return x"
      ],
      "metadata": {
        "id": "5mPjp4w35joh"
      },
      "execution_count": null,
      "outputs": []
    },
    {
      "cell_type": "code",
      "source": [
        "model = Regressor()\n",
        "print(model)"
      ],
      "metadata": {
        "colab": {
          "base_uri": "https://localhost:8080/"
        },
        "id": "uWPxCx1j5jq1",
        "outputId": "82f5b42b-920e-4c71-ab4f-32a68ccceff4"
      },
      "execution_count": null,
      "outputs": [
        {
          "output_type": "stream",
          "name": "stdout",
          "text": [
            "Regressor(\n",
            "  (fc1): Linear(in_features=13, out_features=50, bias=True)\n",
            "  (fc2): Linear(in_features=50, out_features=30, bias=True)\n",
            "  (fc3): Linear(in_features=30, out_features=1, bias=True)\n",
            "  (dropout): Dropout(p=0.5, inplace=False)\n",
            ")\n"
          ]
        }
      ]
    },
    {
      "cell_type": "markdown",
      "source": [
        "# **5.6.2) 모델 변수**"
      ],
      "metadata": {
        "id": "ZegcZPOB6jLT"
      }
    },
    {
      "cell_type": "code",
      "source": [
        "for parameter in model.parameters():\n",
        "  print(parameter.size())"
      ],
      "metadata": {
        "colab": {
          "base_uri": "https://localhost:8080/"
        },
        "id": "_B-X6i9g5jta",
        "outputId": "d9ed6651-c8d4-4bfc-c51b-b632c2d7b9bb"
      },
      "execution_count": null,
      "outputs": [
        {
          "output_type": "stream",
          "name": "stdout",
          "text": [
            "torch.Size([50, 13])\n",
            "torch.Size([50])\n",
            "torch.Size([30, 50])\n",
            "torch.Size([30])\n",
            "torch.Size([1, 30])\n",
            "torch.Size([1])\n"
          ]
        }
      ]
    },
    {
      "cell_type": "code",
      "source": [
        "print(model.fc1.weight.size(), model.fc1.bias.size())"
      ],
      "metadata": {
        "colab": {
          "base_uri": "https://localhost:8080/"
        },
        "id": "63WvLU4n5jwE",
        "outputId": "1deb40e9-27e6-46fb-94aa-135d94f46cb6"
      },
      "execution_count": null,
      "outputs": [
        {
          "output_type": "stream",
          "name": "stdout",
          "text": [
            "torch.Size([50, 13]) torch.Size([50])\n"
          ]
        }
      ]
    },
    {
      "cell_type": "code",
      "source": [
        "for name, param in model.named_parameters():\n",
        "  print(name, param.size())"
      ],
      "metadata": {
        "colab": {
          "base_uri": "https://localhost:8080/"
        },
        "id": "0AeC4FRg5jy0",
        "outputId": "56d10266-5ba0-40be-b905-b36f31b1ebb7"
      },
      "execution_count": null,
      "outputs": [
        {
          "output_type": "stream",
          "name": "stdout",
          "text": [
            "fc1.weight torch.Size([50, 13])\n",
            "fc1.bias torch.Size([50])\n",
            "fc2.weight torch.Size([30, 50])\n",
            "fc2.bias torch.Size([30])\n",
            "fc3.weight torch.Size([1, 30])\n",
            "fc3.bias torch.Size([1])\n"
          ]
        }
      ]
    },
    {
      "cell_type": "code",
      "source": [
        "model = model.cuda()\n",
        "summary(model, (10, 13))"
      ],
      "metadata": {
        "colab": {
          "base_uri": "https://localhost:8080/"
        },
        "id": "5AZVPayI5j1Q",
        "outputId": "4a60100a-6dcb-4979-9396-d97953a4d77a"
      },
      "execution_count": null,
      "outputs": [
        {
          "output_type": "stream",
          "name": "stdout",
          "text": [
            "----------------------------------------------------------------\n",
            "        Layer (type)               Output Shape         Param #\n",
            "================================================================\n",
            "            Linear-1               [-1, 10, 50]             700\n",
            "            Linear-2               [-1, 10, 30]           1,530\n",
            "           Dropout-3               [-1, 10, 30]               0\n",
            "            Linear-4                [-1, 10, 1]              31\n",
            "================================================================\n",
            "Total params: 2,261\n",
            "Trainable params: 2,261\n",
            "Non-trainable params: 0\n",
            "----------------------------------------------------------------\n",
            "Input size (MB): 0.00\n",
            "Forward/backward pass size (MB): 0.01\n",
            "Params size (MB): 0.01\n",
            "Estimated Total Size (MB): 0.02\n",
            "----------------------------------------------------------------\n"
          ]
        }
      ]
    },
    {
      "cell_type": "code",
      "source": [],
      "metadata": {
        "id": "wP50W43_5j3B"
      },
      "execution_count": null,
      "outputs": []
    },
    {
      "cell_type": "code",
      "source": [],
      "metadata": {
        "id": "LEjN0DH65j5X"
      },
      "execution_count": null,
      "outputs": []
    }
  ]
}