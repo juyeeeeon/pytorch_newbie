{
  "nbformat": 4,
  "nbformat_minor": 0,
  "metadata": {
    "colab": {
      "provenance": [],
      "authorship_tag": "ABX9TyMFDpHit/bbhcEPvgQWVlR0",
      "include_colab_link": true
    },
    "kernelspec": {
      "name": "python3",
      "display_name": "Python 3"
    },
    "language_info": {
      "name": "python"
    },
    "accelerator": "GPU",
    "gpuClass": "standard",
    "widgets": {
      "application/vnd.jupyter.widget-state+json": {
        "a245a31380d648568faf1be263cdc116": {
          "model_module": "@jupyter-widgets/controls",
          "model_name": "HBoxModel",
          "model_module_version": "1.5.0",
          "state": {
            "_dom_classes": [],
            "_model_module": "@jupyter-widgets/controls",
            "_model_module_version": "1.5.0",
            "_model_name": "HBoxModel",
            "_view_count": null,
            "_view_module": "@jupyter-widgets/controls",
            "_view_module_version": "1.5.0",
            "_view_name": "HBoxView",
            "box_style": "",
            "children": [
              "IPY_MODEL_e1ca8f5f112c4fe4b372681fd9760046",
              "IPY_MODEL_1efda5a12de243488dee8a1f8d14d37e",
              "IPY_MODEL_d37a0b3e53d341c598370b225c129a8a"
            ],
            "layout": "IPY_MODEL_97acdccdcd164981b8dcc5ab9052616a"
          }
        },
        "e1ca8f5f112c4fe4b372681fd9760046": {
          "model_module": "@jupyter-widgets/controls",
          "model_name": "HTMLModel",
          "model_module_version": "1.5.0",
          "state": {
            "_dom_classes": [],
            "_model_module": "@jupyter-widgets/controls",
            "_model_module_version": "1.5.0",
            "_model_name": "HTMLModel",
            "_view_count": null,
            "_view_module": "@jupyter-widgets/controls",
            "_view_module_version": "1.5.0",
            "_view_name": "HTMLView",
            "description": "",
            "description_tooltip": null,
            "layout": "IPY_MODEL_654355e09f3b423c917ff5898f3268cb",
            "placeholder": "​",
            "style": "IPY_MODEL_80317cb8992c42f7961af2e1ee1a624f",
            "value": "100%"
          }
        },
        "1efda5a12de243488dee8a1f8d14d37e": {
          "model_module": "@jupyter-widgets/controls",
          "model_name": "FloatProgressModel",
          "model_module_version": "1.5.0",
          "state": {
            "_dom_classes": [],
            "_model_module": "@jupyter-widgets/controls",
            "_model_module_version": "1.5.0",
            "_model_name": "FloatProgressModel",
            "_view_count": null,
            "_view_module": "@jupyter-widgets/controls",
            "_view_module_version": "1.5.0",
            "_view_name": "ProgressView",
            "bar_style": "success",
            "description": "",
            "description_tooltip": null,
            "layout": "IPY_MODEL_d4052f9edd964290b649941908931fca",
            "max": 170498071,
            "min": 0,
            "orientation": "horizontal",
            "style": "IPY_MODEL_9d116ac3b99f4586a2095442a4e036ad",
            "value": 170498071
          }
        },
        "d37a0b3e53d341c598370b225c129a8a": {
          "model_module": "@jupyter-widgets/controls",
          "model_name": "HTMLModel",
          "model_module_version": "1.5.0",
          "state": {
            "_dom_classes": [],
            "_model_module": "@jupyter-widgets/controls",
            "_model_module_version": "1.5.0",
            "_model_name": "HTMLModel",
            "_view_count": null,
            "_view_module": "@jupyter-widgets/controls",
            "_view_module_version": "1.5.0",
            "_view_name": "HTMLView",
            "description": "",
            "description_tooltip": null,
            "layout": "IPY_MODEL_24847e57677040abaa14d6d677fcf94d",
            "placeholder": "​",
            "style": "IPY_MODEL_dde3ffc627044dbf85c643859495e25b",
            "value": " 170498071/170498071 [00:03&lt;00:00, 54548584.45it/s]"
          }
        },
        "97acdccdcd164981b8dcc5ab9052616a": {
          "model_module": "@jupyter-widgets/base",
          "model_name": "LayoutModel",
          "model_module_version": "1.2.0",
          "state": {
            "_model_module": "@jupyter-widgets/base",
            "_model_module_version": "1.2.0",
            "_model_name": "LayoutModel",
            "_view_count": null,
            "_view_module": "@jupyter-widgets/base",
            "_view_module_version": "1.2.0",
            "_view_name": "LayoutView",
            "align_content": null,
            "align_items": null,
            "align_self": null,
            "border": null,
            "bottom": null,
            "display": null,
            "flex": null,
            "flex_flow": null,
            "grid_area": null,
            "grid_auto_columns": null,
            "grid_auto_flow": null,
            "grid_auto_rows": null,
            "grid_column": null,
            "grid_gap": null,
            "grid_row": null,
            "grid_template_areas": null,
            "grid_template_columns": null,
            "grid_template_rows": null,
            "height": null,
            "justify_content": null,
            "justify_items": null,
            "left": null,
            "margin": null,
            "max_height": null,
            "max_width": null,
            "min_height": null,
            "min_width": null,
            "object_fit": null,
            "object_position": null,
            "order": null,
            "overflow": null,
            "overflow_x": null,
            "overflow_y": null,
            "padding": null,
            "right": null,
            "top": null,
            "visibility": null,
            "width": null
          }
        },
        "654355e09f3b423c917ff5898f3268cb": {
          "model_module": "@jupyter-widgets/base",
          "model_name": "LayoutModel",
          "model_module_version": "1.2.0",
          "state": {
            "_model_module": "@jupyter-widgets/base",
            "_model_module_version": "1.2.0",
            "_model_name": "LayoutModel",
            "_view_count": null,
            "_view_module": "@jupyter-widgets/base",
            "_view_module_version": "1.2.0",
            "_view_name": "LayoutView",
            "align_content": null,
            "align_items": null,
            "align_self": null,
            "border": null,
            "bottom": null,
            "display": null,
            "flex": null,
            "flex_flow": null,
            "grid_area": null,
            "grid_auto_columns": null,
            "grid_auto_flow": null,
            "grid_auto_rows": null,
            "grid_column": null,
            "grid_gap": null,
            "grid_row": null,
            "grid_template_areas": null,
            "grid_template_columns": null,
            "grid_template_rows": null,
            "height": null,
            "justify_content": null,
            "justify_items": null,
            "left": null,
            "margin": null,
            "max_height": null,
            "max_width": null,
            "min_height": null,
            "min_width": null,
            "object_fit": null,
            "object_position": null,
            "order": null,
            "overflow": null,
            "overflow_x": null,
            "overflow_y": null,
            "padding": null,
            "right": null,
            "top": null,
            "visibility": null,
            "width": null
          }
        },
        "80317cb8992c42f7961af2e1ee1a624f": {
          "model_module": "@jupyter-widgets/controls",
          "model_name": "DescriptionStyleModel",
          "model_module_version": "1.5.0",
          "state": {
            "_model_module": "@jupyter-widgets/controls",
            "_model_module_version": "1.5.0",
            "_model_name": "DescriptionStyleModel",
            "_view_count": null,
            "_view_module": "@jupyter-widgets/base",
            "_view_module_version": "1.2.0",
            "_view_name": "StyleView",
            "description_width": ""
          }
        },
        "d4052f9edd964290b649941908931fca": {
          "model_module": "@jupyter-widgets/base",
          "model_name": "LayoutModel",
          "model_module_version": "1.2.0",
          "state": {
            "_model_module": "@jupyter-widgets/base",
            "_model_module_version": "1.2.0",
            "_model_name": "LayoutModel",
            "_view_count": null,
            "_view_module": "@jupyter-widgets/base",
            "_view_module_version": "1.2.0",
            "_view_name": "LayoutView",
            "align_content": null,
            "align_items": null,
            "align_self": null,
            "border": null,
            "bottom": null,
            "display": null,
            "flex": null,
            "flex_flow": null,
            "grid_area": null,
            "grid_auto_columns": null,
            "grid_auto_flow": null,
            "grid_auto_rows": null,
            "grid_column": null,
            "grid_gap": null,
            "grid_row": null,
            "grid_template_areas": null,
            "grid_template_columns": null,
            "grid_template_rows": null,
            "height": null,
            "justify_content": null,
            "justify_items": null,
            "left": null,
            "margin": null,
            "max_height": null,
            "max_width": null,
            "min_height": null,
            "min_width": null,
            "object_fit": null,
            "object_position": null,
            "order": null,
            "overflow": null,
            "overflow_x": null,
            "overflow_y": null,
            "padding": null,
            "right": null,
            "top": null,
            "visibility": null,
            "width": null
          }
        },
        "9d116ac3b99f4586a2095442a4e036ad": {
          "model_module": "@jupyter-widgets/controls",
          "model_name": "ProgressStyleModel",
          "model_module_version": "1.5.0",
          "state": {
            "_model_module": "@jupyter-widgets/controls",
            "_model_module_version": "1.5.0",
            "_model_name": "ProgressStyleModel",
            "_view_count": null,
            "_view_module": "@jupyter-widgets/base",
            "_view_module_version": "1.2.0",
            "_view_name": "StyleView",
            "bar_color": null,
            "description_width": ""
          }
        },
        "24847e57677040abaa14d6d677fcf94d": {
          "model_module": "@jupyter-widgets/base",
          "model_name": "LayoutModel",
          "model_module_version": "1.2.0",
          "state": {
            "_model_module": "@jupyter-widgets/base",
            "_model_module_version": "1.2.0",
            "_model_name": "LayoutModel",
            "_view_count": null,
            "_view_module": "@jupyter-widgets/base",
            "_view_module_version": "1.2.0",
            "_view_name": "LayoutView",
            "align_content": null,
            "align_items": null,
            "align_self": null,
            "border": null,
            "bottom": null,
            "display": null,
            "flex": null,
            "flex_flow": null,
            "grid_area": null,
            "grid_auto_columns": null,
            "grid_auto_flow": null,
            "grid_auto_rows": null,
            "grid_column": null,
            "grid_gap": null,
            "grid_row": null,
            "grid_template_areas": null,
            "grid_template_columns": null,
            "grid_template_rows": null,
            "height": null,
            "justify_content": null,
            "justify_items": null,
            "left": null,
            "margin": null,
            "max_height": null,
            "max_width": null,
            "min_height": null,
            "min_width": null,
            "object_fit": null,
            "object_position": null,
            "order": null,
            "overflow": null,
            "overflow_x": null,
            "overflow_y": null,
            "padding": null,
            "right": null,
            "top": null,
            "visibility": null,
            "width": null
          }
        },
        "dde3ffc627044dbf85c643859495e25b": {
          "model_module": "@jupyter-widgets/controls",
          "model_name": "DescriptionStyleModel",
          "model_module_version": "1.5.0",
          "state": {
            "_model_module": "@jupyter-widgets/controls",
            "_model_module_version": "1.5.0",
            "_model_name": "DescriptionStyleModel",
            "_view_count": null,
            "_view_module": "@jupyter-widgets/base",
            "_view_module_version": "1.2.0",
            "_view_name": "StyleView",
            "description_width": ""
          }
        }
      }
    }
  },
  "cells": [
    {
      "cell_type": "markdown",
      "metadata": {
        "id": "view-in-github",
        "colab_type": "text"
      },
      "source": [
        "<a href=\"https://colab.research.google.com/github/juyeeeeon/pytorch_newbie/blob/main/4_%ED%8C%8C%EC%9D%B4%ED%86%A0%EC%B9%98%EC%9D%98_%EA%B8%B0%EB%B3%B8.ipynb\" target=\"_parent\"><img src=\"https://colab.research.google.com/assets/colab-badge.svg\" alt=\"Open In Colab\"/></a>"
      ]
    },
    {
      "cell_type": "markdown",
      "source": [
        "# 4.1> **텐서**\n",
        "\n"
      ],
      "metadata": {
        "id": "5yMEyMWoCKo6"
      }
    },
    {
      "cell_type": "markdown",
      "source": [
        "# **4.1.1) 여러가지 텐서**"
      ],
      "metadata": {
        "id": "78Cp3vTWAlPd"
      }
    },
    {
      "cell_type": "code",
      "execution_count": null,
      "metadata": {
        "colab": {
          "base_uri": "https://localhost:8080/"
        },
        "id": "ql_LWyNl-ux8",
        "outputId": "008a1592-5a61-4856-eb1d-ea29c4c80222"
      },
      "outputs": [
        {
          "output_type": "stream",
          "name": "stdout",
          "text": [
            "tensor([[0.0000e+00, 0.0000e+00, 9.1084e-44, 0.0000e+00],\n",
            "        [3.3805e-06, 4.5745e-41, 9.0913e-35, 0.0000e+00],\n",
            "        [4.3227e-35, 0.0000e+00, 9.0835e-35, 0.0000e+00],\n",
            "        [2.2421e-44, 0.0000e+00, 1.1210e-44, 0.0000e+00],\n",
            "        [2.2421e-43, 0.0000e+00, 6.7262e-44, 0.0000e+00]])\n"
          ]
        }
      ],
      "source": [
        "import torch\n",
        "import numpy as np\n",
        "\n",
        "x = torch.empty(5,4)\n",
        "print(x)"
      ]
    },
    {
      "cell_type": "code",
      "source": [
        "torch.ones(3,3)"
      ],
      "metadata": {
        "colab": {
          "base_uri": "https://localhost:8080/"
        },
        "id": "2kt0v5EJ_HB5",
        "outputId": "a31088ea-ed35-4d74-c73e-4c64b5729b2a"
      },
      "execution_count": null,
      "outputs": [
        {
          "output_type": "execute_result",
          "data": {
            "text/plain": [
              "tensor([[1., 1., 1.],\n",
              "        [1., 1., 1.],\n",
              "        [1., 1., 1.]])"
            ]
          },
          "metadata": {},
          "execution_count": 59
        }
      ]
    },
    {
      "cell_type": "code",
      "source": [
        "torch.zeros(2)"
      ],
      "metadata": {
        "colab": {
          "base_uri": "https://localhost:8080/"
        },
        "id": "RK_P4buC_Mi7",
        "outputId": "94daa019-b759-4181-e9e3-e3632b422eb0"
      },
      "execution_count": null,
      "outputs": [
        {
          "output_type": "execute_result",
          "data": {
            "text/plain": [
              "tensor([0., 0.])"
            ]
          },
          "metadata": {},
          "execution_count": 60
        }
      ]
    },
    {
      "cell_type": "code",
      "source": [
        "torch.zeros(3,3)"
      ],
      "metadata": {
        "colab": {
          "base_uri": "https://localhost:8080/"
        },
        "id": "8PgOD_Og_Mk9",
        "outputId": "6032164a-5d07-480e-f97e-4f92db0060d2"
      },
      "execution_count": null,
      "outputs": [
        {
          "output_type": "execute_result",
          "data": {
            "text/plain": [
              "tensor([[0., 0., 0.],\n",
              "        [0., 0., 0.],\n",
              "        [0., 0., 0.]])"
            ]
          },
          "metadata": {},
          "execution_count": 61
        }
      ]
    },
    {
      "cell_type": "code",
      "source": [
        "torch.rand(5,6)"
      ],
      "metadata": {
        "colab": {
          "base_uri": "https://localhost:8080/"
        },
        "id": "_O_ozhkH_MnO",
        "outputId": "31c958e2-0013-4c0e-80ed-95ea5f043989"
      },
      "execution_count": null,
      "outputs": [
        {
          "output_type": "execute_result",
          "data": {
            "text/plain": [
              "tensor([[0.5913, 0.5193, 0.7413, 0.6523, 0.5884, 0.4598],\n",
              "        [0.5856, 0.9632, 0.0815, 0.9742, 0.5588, 0.6286],\n",
              "        [0.9075, 0.8284, 0.7275, 0.4259, 0.4344, 0.0405],\n",
              "        [0.6758, 0.2445, 0.3843, 0.3412, 0.9630, 0.8044],\n",
              "        [0.0759, 0.7078, 0.0549, 0.4806, 0.2438, 0.8801]])"
            ]
          },
          "metadata": {},
          "execution_count": 62
        }
      ]
    },
    {
      "cell_type": "markdown",
      "source": [
        "# **4.1.2) 리스트, 넘파이 배열을 텐서로 만들기**"
      ],
      "metadata": {
        "id": "n8yoVyR2Ai5T"
      }
    },
    {
      "cell_type": "code",
      "source": [
        "l = [13, 4]\n",
        "r = np.array([4, 56, 7])\n",
        "torch.tensor(l)"
      ],
      "metadata": {
        "colab": {
          "base_uri": "https://localhost:8080/"
        },
        "id": "jWqQhVH7_Mpw",
        "outputId": "7697fdc2-25e4-4ba4-d798-0e9fc816bd85"
      },
      "execution_count": null,
      "outputs": [
        {
          "output_type": "execute_result",
          "data": {
            "text/plain": [
              "tensor([13,  4])"
            ]
          },
          "metadata": {},
          "execution_count": 63
        }
      ]
    },
    {
      "cell_type": "code",
      "source": [
        "torch.tensor(r)"
      ],
      "metadata": {
        "colab": {
          "base_uri": "https://localhost:8080/"
        },
        "id": "c8giSwam_Mr1",
        "outputId": "bc65f211-96c7-4bd6-b1e3-4f000b0b99c1"
      },
      "execution_count": null,
      "outputs": [
        {
          "output_type": "execute_result",
          "data": {
            "text/plain": [
              "tensor([ 4, 56,  7])"
            ]
          },
          "metadata": {},
          "execution_count": 64
        }
      ]
    },
    {
      "cell_type": "markdown",
      "source": [
        "# **4.1.3) 텐서의 크기, 타입, 연산산**"
      ],
      "metadata": {
        "id": "wdz8GbpjBEUY"
      }
    },
    {
      "cell_type": "code",
      "source": [
        "x.size()"
      ],
      "metadata": {
        "colab": {
          "base_uri": "https://localhost:8080/"
        },
        "id": "WZrL9Gar_MuD",
        "outputId": "2f0a25ce-f9ad-4d85-da49-637b7d8dce17"
      },
      "execution_count": null,
      "outputs": [
        {
          "output_type": "execute_result",
          "data": {
            "text/plain": [
              "torch.Size([5, 4])"
            ]
          },
          "metadata": {},
          "execution_count": 65
        }
      ]
    },
    {
      "cell_type": "code",
      "source": [
        "x.size()[1]"
      ],
      "metadata": {
        "colab": {
          "base_uri": "https://localhost:8080/"
        },
        "id": "n66ziTU-_MwW",
        "outputId": "ab0f7d3b-7656-4007-ada2-f678ee88ba81"
      },
      "execution_count": null,
      "outputs": [
        {
          "output_type": "execute_result",
          "data": {
            "text/plain": [
              "4"
            ]
          },
          "metadata": {},
          "execution_count": 66
        }
      ]
    },
    {
      "cell_type": "code",
      "source": [
        "x.size(1)"
      ],
      "metadata": {
        "colab": {
          "base_uri": "https://localhost:8080/"
        },
        "id": "WdNkzwbt_Myw",
        "outputId": "9faa91ab-dc92-47c9-b49e-90e9a35d743e"
      },
      "execution_count": null,
      "outputs": [
        {
          "output_type": "execute_result",
          "data": {
            "text/plain": [
              "4"
            ]
          },
          "metadata": {},
          "execution_count": 67
        }
      ]
    },
    {
      "cell_type": "code",
      "source": [
        "type(x)"
      ],
      "metadata": {
        "colab": {
          "base_uri": "https://localhost:8080/"
        },
        "id": "s6osI_GU_M00",
        "outputId": "0ca1ef15-7e1f-4a27-a652-b16f7d339771"
      },
      "execution_count": null,
      "outputs": [
        {
          "output_type": "execute_result",
          "data": {
            "text/plain": [
              "torch.Tensor"
            ]
          },
          "metadata": {},
          "execution_count": 68
        }
      ]
    },
    {
      "cell_type": "code",
      "source": [
        "x = torch.rand(2,2)\n",
        "y = torch.rand(2,2)\n",
        "x+y"
      ],
      "metadata": {
        "colab": {
          "base_uri": "https://localhost:8080/"
        },
        "id": "s6hYWM-H_M3M",
        "outputId": "e463769e-d71d-4b72-e0c4-adaff06754b3"
      },
      "execution_count": null,
      "outputs": [
        {
          "output_type": "execute_result",
          "data": {
            "text/plain": [
              "tensor([[1.6132, 0.8219],\n",
              "        [1.6470, 1.2597]])"
            ]
          },
          "metadata": {},
          "execution_count": 69
        }
      ]
    },
    {
      "cell_type": "code",
      "source": [
        "torch.add(x,y)"
      ],
      "metadata": {
        "colab": {
          "base_uri": "https://localhost:8080/"
        },
        "id": "PXwidQCC_M5i",
        "outputId": "4ba122e9-8bed-44ec-90ce-2d53c4629077"
      },
      "execution_count": null,
      "outputs": [
        {
          "output_type": "execute_result",
          "data": {
            "text/plain": [
              "tensor([[1.6132, 0.8219],\n",
              "        [1.6470, 1.2597]])"
            ]
          },
          "metadata": {},
          "execution_count": 70
        }
      ]
    },
    {
      "cell_type": "code",
      "source": [
        "y.add(x)"
      ],
      "metadata": {
        "colab": {
          "base_uri": "https://localhost:8080/"
        },
        "id": "eSsMAIvY_M74",
        "outputId": "ebfd3bfa-8bfa-40f1-dbae-6579cb4928dc"
      },
      "execution_count": null,
      "outputs": [
        {
          "output_type": "execute_result",
          "data": {
            "text/plain": [
              "tensor([[1.6132, 0.8219],\n",
              "        [1.6470, 1.2597]])"
            ]
          },
          "metadata": {},
          "execution_count": 71
        }
      ]
    },
    {
      "cell_type": "code",
      "source": [
        "y.add_(x)"
      ],
      "metadata": {
        "colab": {
          "base_uri": "https://localhost:8080/"
        },
        "id": "z1atcVOK_M-O",
        "outputId": "b92ac380-0579-420e-c089-be1795909902"
      },
      "execution_count": null,
      "outputs": [
        {
          "output_type": "execute_result",
          "data": {
            "text/plain": [
              "tensor([[1.6132, 0.8219],\n",
              "        [1.6470, 1.2597]])"
            ]
          },
          "metadata": {},
          "execution_count": 72
        }
      ]
    },
    {
      "cell_type": "code",
      "source": [
        "x"
      ],
      "metadata": {
        "colab": {
          "base_uri": "https://localhost:8080/"
        },
        "id": "izHyWl0N_NA-",
        "outputId": "cd74c9a3-69dc-4291-8061-7ccd77a2e80d"
      },
      "execution_count": null,
      "outputs": [
        {
          "output_type": "execute_result",
          "data": {
            "text/plain": [
              "tensor([[0.9430, 0.4972],\n",
              "        [0.8676, 0.8843]])"
            ]
          },
          "metadata": {},
          "execution_count": 73
        }
      ]
    },
    {
      "cell_type": "code",
      "source": [
        "y"
      ],
      "metadata": {
        "colab": {
          "base_uri": "https://localhost:8080/"
        },
        "id": "BVtd2WMv_NDJ",
        "outputId": "20e339d8-0f96-4af3-ba11-9a93c5830c52"
      },
      "execution_count": null,
      "outputs": [
        {
          "output_type": "execute_result",
          "data": {
            "text/plain": [
              "tensor([[1.6132, 0.8219],\n",
              "        [1.6470, 1.2597]])"
            ]
          },
          "metadata": {},
          "execution_count": 74
        }
      ]
    },
    {
      "cell_type": "markdown",
      "source": [
        "# **4.1.4) 텐서의 크기 변환**"
      ],
      "metadata": {
        "id": "l3DYOvYjBKHT"
      }
    },
    {
      "cell_type": "code",
      "source": [
        "x = torch.rand(8,8)\n",
        "print(x.size())"
      ],
      "metadata": {
        "colab": {
          "base_uri": "https://localhost:8080/"
        },
        "id": "KRXN7lie_NFR",
        "outputId": "5955e145-81c7-46ec-957a-6b224ed598d8"
      },
      "execution_count": null,
      "outputs": [
        {
          "output_type": "stream",
          "name": "stdout",
          "text": [
            "torch.Size([8, 8])\n"
          ]
        }
      ]
    },
    {
      "cell_type": "code",
      "source": [
        "x"
      ],
      "metadata": {
        "colab": {
          "base_uri": "https://localhost:8080/"
        },
        "id": "S1sgL1x7Ae0X",
        "outputId": "929a3aa5-3ef6-4d57-a720-eab9ca651c42"
      },
      "execution_count": null,
      "outputs": [
        {
          "output_type": "execute_result",
          "data": {
            "text/plain": [
              "tensor([[0.7391, 0.5639, 0.8482, 0.1082, 0.5559, 0.3718, 0.6309, 0.5064],\n",
              "        [0.7792, 0.9019, 0.3654, 0.0183, 0.3483, 0.3538, 0.4525, 0.6764],\n",
              "        [0.4477, 0.6360, 0.6166, 0.6070, 0.9685, 0.3656, 0.1252, 0.7014],\n",
              "        [0.0334, 0.5059, 0.4797, 0.6425, 0.2900, 0.1114, 0.2082, 0.9462],\n",
              "        [0.0950, 0.2588, 0.5927, 0.6188, 0.3566, 0.9756, 0.6088, 0.5987],\n",
              "        [0.6690, 0.2559, 0.4134, 0.7497, 0.2281, 0.4907, 0.0314, 0.4084],\n",
              "        [0.3845, 0.8442, 0.2557, 0.6856, 0.4465, 0.9273, 0.1196, 0.6339],\n",
              "        [0.9323, 0.3315, 0.5911, 0.7718, 0.8626, 0.4267, 0.5288, 0.5636]])"
            ]
          },
          "metadata": {},
          "execution_count": 76
        }
      ]
    },
    {
      "cell_type": "code",
      "source": [
        "a = x.view(64)\n",
        "print(a.size())"
      ],
      "metadata": {
        "colab": {
          "base_uri": "https://localhost:8080/"
        },
        "id": "W2UXnry7AeyI",
        "outputId": "4a4c443e-c289-4785-8086-3bb3bcaa4581"
      },
      "execution_count": null,
      "outputs": [
        {
          "output_type": "stream",
          "name": "stdout",
          "text": [
            "torch.Size([64])\n"
          ]
        }
      ]
    },
    {
      "cell_type": "code",
      "source": [
        "a"
      ],
      "metadata": {
        "colab": {
          "base_uri": "https://localhost:8080/"
        },
        "id": "-ANzeOhzAe2t",
        "outputId": "e23d3e9d-6ace-4db4-d5df-ff24fd348e0b"
      },
      "execution_count": null,
      "outputs": [
        {
          "output_type": "execute_result",
          "data": {
            "text/plain": [
              "tensor([0.7391, 0.5639, 0.8482, 0.1082, 0.5559, 0.3718, 0.6309, 0.5064, 0.7792,\n",
              "        0.9019, 0.3654, 0.0183, 0.3483, 0.3538, 0.4525, 0.6764, 0.4477, 0.6360,\n",
              "        0.6166, 0.6070, 0.9685, 0.3656, 0.1252, 0.7014, 0.0334, 0.5059, 0.4797,\n",
              "        0.6425, 0.2900, 0.1114, 0.2082, 0.9462, 0.0950, 0.2588, 0.5927, 0.6188,\n",
              "        0.3566, 0.9756, 0.6088, 0.5987, 0.6690, 0.2559, 0.4134, 0.7497, 0.2281,\n",
              "        0.4907, 0.0314, 0.4084, 0.3845, 0.8442, 0.2557, 0.6856, 0.4465, 0.9273,\n",
              "        0.1196, 0.6339, 0.9323, 0.3315, 0.5911, 0.7718, 0.8626, 0.4267, 0.5288,\n",
              "        0.5636])"
            ]
          },
          "metadata": {},
          "execution_count": 78
        }
      ]
    },
    {
      "cell_type": "code",
      "source": [
        "b = x.view(-1, 4, 4) # -1은 크기에 맞게 자동 할당당\n",
        "print(b.size())"
      ],
      "metadata": {
        "colab": {
          "base_uri": "https://localhost:8080/"
        },
        "id": "2xq_zuZAAe48",
        "outputId": "f0a8abed-dee9-4711-b632-cd34f590e28a"
      },
      "execution_count": null,
      "outputs": [
        {
          "output_type": "stream",
          "name": "stdout",
          "text": [
            "torch.Size([4, 4, 4])\n"
          ]
        }
      ]
    },
    {
      "cell_type": "code",
      "source": [
        "b"
      ],
      "metadata": {
        "colab": {
          "base_uri": "https://localhost:8080/"
        },
        "id": "JKJ0Bm3sAe6x",
        "outputId": "7f5e84ce-4fa4-4d7e-bab6-a089735122d7"
      },
      "execution_count": null,
      "outputs": [
        {
          "output_type": "execute_result",
          "data": {
            "text/plain": [
              "tensor([[[0.7391, 0.5639, 0.8482, 0.1082],\n",
              "         [0.5559, 0.3718, 0.6309, 0.5064],\n",
              "         [0.7792, 0.9019, 0.3654, 0.0183],\n",
              "         [0.3483, 0.3538, 0.4525, 0.6764]],\n",
              "\n",
              "        [[0.4477, 0.6360, 0.6166, 0.6070],\n",
              "         [0.9685, 0.3656, 0.1252, 0.7014],\n",
              "         [0.0334, 0.5059, 0.4797, 0.6425],\n",
              "         [0.2900, 0.1114, 0.2082, 0.9462]],\n",
              "\n",
              "        [[0.0950, 0.2588, 0.5927, 0.6188],\n",
              "         [0.3566, 0.9756, 0.6088, 0.5987],\n",
              "         [0.6690, 0.2559, 0.4134, 0.7497],\n",
              "         [0.2281, 0.4907, 0.0314, 0.4084]],\n",
              "\n",
              "        [[0.3845, 0.8442, 0.2557, 0.6856],\n",
              "         [0.4465, 0.9273, 0.1196, 0.6339],\n",
              "         [0.9323, 0.3315, 0.5911, 0.7718],\n",
              "         [0.8626, 0.4267, 0.5288, 0.5636]]])"
            ]
          },
          "metadata": {},
          "execution_count": 80
        }
      ]
    },
    {
      "cell_type": "markdown",
      "source": [
        "# **4.1.5) 텐서에서 넘파이 배열로 변환**"
      ],
      "metadata": {
        "id": "8V48fMl2Bpy-"
      }
    },
    {
      "cell_type": "code",
      "source": [
        "x = torch.rand(8,8)\n",
        "y = x.numpy()\n",
        "type(y)"
      ],
      "metadata": {
        "colab": {
          "base_uri": "https://localhost:8080/"
        },
        "id": "ftqX6T5gAe9J",
        "outputId": "077d2d97-5cd1-4b3a-ed37-f0d6fd6213fc"
      },
      "execution_count": null,
      "outputs": [
        {
          "output_type": "execute_result",
          "data": {
            "text/plain": [
              "numpy.ndarray"
            ]
          },
          "metadata": {},
          "execution_count": 81
        }
      ]
    },
    {
      "cell_type": "markdown",
      "source": [
        "# **4.1.6) 단일 텐서에서 값으로 변환하기**"
      ],
      "metadata": {
        "id": "rZj5gboGB2Fe"
      }
    },
    {
      "cell_type": "code",
      "source": [
        "x = torch.ones(1)\n",
        "print(x)\n",
        "print(x.item())"
      ],
      "metadata": {
        "colab": {
          "base_uri": "https://localhost:8080/"
        },
        "id": "vz2VJoKfAe_Q",
        "outputId": "112584b3-dc16-4b94-d87a-98a13d6677a3"
      },
      "execution_count": null,
      "outputs": [
        {
          "output_type": "stream",
          "name": "stdout",
          "text": [
            "tensor([1.])\n",
            "1.0\n"
          ]
        }
      ]
    },
    {
      "cell_type": "markdown",
      "source": [
        "# 4.2> **역전파**"
      ],
      "metadata": {
        "id": "gVerR-lKCHF4"
      }
    },
    {
      "cell_type": "markdown",
      "source": [
        "# **4.2.1) 그래디언트 텐서**"
      ],
      "metadata": {
        "id": "6zqQqK2xCc5r"
      }
    },
    {
      "cell_type": "code",
      "source": [
        "import torch\n",
        "x = torch.ones(2,2,requires_grad=True)\n",
        "y=x+1\n",
        "z=2*y**2\n",
        "r=z.mean()\n",
        "print(\"result:\",r)"
      ],
      "metadata": {
        "colab": {
          "base_uri": "https://localhost:8080/"
        },
        "id": "cPIU1-reAfB2",
        "outputId": "1f93c65a-bc38-42be-8bef-0d10d096090f"
      },
      "execution_count": null,
      "outputs": [
        {
          "output_type": "stream",
          "name": "stdout",
          "text": [
            "result: tensor(8., grad_fn=<MeanBackward0>)\n"
          ]
        }
      ]
    },
    {
      "cell_type": "code",
      "source": [
        "r.backward()\n",
        "print(x.grad)"
      ],
      "metadata": {
        "colab": {
          "base_uri": "https://localhost:8080/"
        },
        "id": "0j4lF99HAfEM",
        "outputId": "19e928f3-cbe8-49b1-f9a8-d92df8cbac85"
      },
      "execution_count": null,
      "outputs": [
        {
          "output_type": "stream",
          "name": "stdout",
          "text": [
            "tensor([[2., 2.],\n",
            "        [2., 2.]])\n"
          ]
        }
      ]
    },
    {
      "cell_type": "markdown",
      "source": [
        "# **4.2.2) 자동미분 - 선형회귀식**"
      ],
      "metadata": {
        "id": "XdaH0jcwDfiW"
      }
    },
    {
      "cell_type": "code",
      "source": [
        "import torch\n",
        "from matplotlib import pyplot as plt\n",
        "\n",
        "# 데이터는 변하지 않는 값으로서 업데이트가 필요하지 않는 반면,\n",
        "x = torch.FloatTensor(range(5)).unsqueeze(1)\n",
        "y = 2*x + torch.rand(5,1)\n",
        "\n",
        "num_features = x.shape[1]\n",
        "\n",
        "print(x)\n",
        "print(y)\n",
        "print(num_features)"
      ],
      "metadata": {
        "colab": {
          "base_uri": "https://localhost:8080/"
        },
        "id": "K9t5BjR1AfGi",
        "outputId": "8506d350-1eb2-49f0-d777-357bfce37f1a"
      },
      "execution_count": null,
      "outputs": [
        {
          "output_type": "stream",
          "name": "stdout",
          "text": [
            "tensor([[0.],\n",
            "        [1.],\n",
            "        [2.],\n",
            "        [3.],\n",
            "        [4.]])\n",
            "tensor([[0.6085],\n",
            "        [2.2997],\n",
            "        [4.7564],\n",
            "        [6.2926],\n",
            "        [8.8671]])\n",
            "1\n"
          ]
        }
      ]
    },
    {
      "cell_type": "code",
      "source": [
        "# w, b값은 역전파를 통해 최적값을 찾는 것이므로 requires_grad = True로 활성화화\n",
        "w = torch.randn(num_features, 1, requires_grad=True)\n",
        "b = torch.randn(1, requires_grad=True)\n",
        "\n",
        "\n",
        "# y = wx+b\n",
        "print(w)\n",
        "print(b)"
      ],
      "metadata": {
        "colab": {
          "base_uri": "https://localhost:8080/"
        },
        "id": "1Z-6t2rTAfJJ",
        "outputId": "83bc3d7f-a131-4aa4-ae56-b338e062cafe"
      },
      "execution_count": null,
      "outputs": [
        {
          "output_type": "stream",
          "name": "stdout",
          "text": [
            "tensor([[-0.3003]], requires_grad=True)\n",
            "tensor([-0.2815], requires_grad=True)\n"
          ]
        }
      ]
    },
    {
      "cell_type": "code",
      "source": [
        "# 경사하강법(SGD) : 가중치를 업데이트하는 최적화 방법 중 하나\n",
        "\n",
        "learning_rate = 1e-3\n",
        "optimizer = torch.optim.SGD([w,b], lr=learning_rate)"
      ],
      "metadata": {
        "id": "jJMN25GVAfLv"
      },
      "execution_count": null,
      "outputs": []
    },
    {
      "cell_type": "code",
      "source": [
        "loss_stack = []\n",
        "for epoch in range(1001):\n",
        "  optimizer.zero_grad()\n",
        "  y_hat = torch.matmul(x,w) + b\n",
        "  loss = torch.mean((y_hat-y)**2) #손실함수 Mean Square Error(MSE) 사용\n",
        "  loss.backward()\n",
        "  optimizer.step()\n",
        "  loss_stack.append(loss.item())\n",
        "\n",
        "  if epoch%100 == 0:\n",
        "    print(f'Epoch {epoch} : {loss.item()}')\n"
      ],
      "metadata": {
        "colab": {
          "base_uri": "https://localhost:8080/"
        },
        "id": "2sqTRLbjAfOk",
        "outputId": "11bafac5-6455-4386-a60b-d2d767816a24"
      },
      "execution_count": null,
      "outputs": [
        {
          "output_type": "stream",
          "name": "stdout",
          "text": [
            "Epoch 0 : 40.77701950073242\n",
            "Epoch 100 : 2.791606903076172\n",
            "Epoch 200 : 0.23543044924736023\n",
            "Epoch 300 : 0.06328510493040085\n",
            "Epoch 400 : 0.051576338708400726\n",
            "Epoch 500 : 0.05067700147628784\n",
            "Epoch 600 : 0.05051768943667412\n",
            "Epoch 700 : 0.05041928216814995\n",
            "Epoch 800 : 0.05033494904637337\n",
            "Epoch 900 : 0.05026017501950264\n",
            "Epoch 1000 : 0.05019398406147957\n"
          ]
        }
      ]
    },
    {
      "cell_type": "code",
      "source": [
        "with torch.no_grad(): #requires_grad가 작동하지 않도록록\n",
        "  y_hat = torch.matmul(x, w) + b"
      ],
      "metadata": {
        "id": "lWdsOq5sHF6u"
      },
      "execution_count": null,
      "outputs": []
    },
    {
      "cell_type": "code",
      "source": [
        "plt.figure(figsize=(10, 5))\n",
        "\n",
        "plt.subplot(121)\n",
        "plt.plot(loss_stack)\n",
        "plt.title(\"Loss\")\n",
        "\n",
        "plt.subplot(122)\n",
        "plt.plot(x, y, '.b')\n",
        "plt.plot(x, y_hat, 'r-')\n",
        "plt.legend(['ground truth', 'prediction'])\n",
        "plt.title(\"Prediction\")\n",
        "plt.show()"
      ],
      "metadata": {
        "colab": {
          "base_uri": "https://localhost:8080/",
          "height": 336
        },
        "id": "wJwc_5leHF9I",
        "outputId": "413a2478-5c02-424f-8a7b-7c62560ed12c"
      },
      "execution_count": null,
      "outputs": [
        {
          "output_type": "display_data",
          "data": {
            "text/plain": [
              "<Figure size 720x360 with 2 Axes>"
            ],
            "image/png": "[encoded data removed]"
          },
          "metadata": {
            "needs_background": "light"
          }
        }
      ]
    },
    {
      "cell_type": "markdown",
      "source": [
        "# **4.3> 데이터 불러오기**"
      ],
      "metadata": {
        "id": "DYFW8mE8Il5X"
      }
    },
    {
      "cell_type": "markdown",
      "source": [
        "# **4.3.1) 파이토치 제공 데이터 사용**"
      ],
      "metadata": {
        "id": "igW_cv67IpuR"
      }
    },
    {
      "cell_type": "code",
      "source": [
        "import torch\n",
        "import torchvision\n",
        "import torchvision.transforms as tr\n",
        "from torch.utils.data import DataLoader, Dataset\n",
        "import numpy as np\n",
        "import matplotlib.pyplot as plt"
      ],
      "metadata": {
        "id": "LD1KBlDQHF_v"
      },
      "execution_count": null,
      "outputs": []
    },
    {
      "cell_type": "code",
      "source": [
        "transf = tr.Compose([tr.Resize(16), tr.ToTensor()])\n",
        "trainset = torchvision.datasets.CIFAR10(root='./data', train=True, download=True, transform=transf)\n",
        "testset = torchvision.datasets.CIFAR10(root='./data', train=False, download=True, transform=transf)"
      ],
      "metadata": {
        "colab": {
          "base_uri": "https://localhost:8080/",
          "height": 105,
          "referenced_widgets": [
            "a245a31380d648568faf1be263cdc116",
            "e1ca8f5f112c4fe4b372681fd9760046",
            "1efda5a12de243488dee8a1f8d14d37e",
            "d37a0b3e53d341c598370b225c129a8a",
            "97acdccdcd164981b8dcc5ab9052616a",
            "654355e09f3b423c917ff5898f3268cb",
            "80317cb8992c42f7961af2e1ee1a624f",
            "d4052f9edd964290b649941908931fca",
            "9d116ac3b99f4586a2095442a4e036ad",
            "24847e57677040abaa14d6d677fcf94d",
            "dde3ffc627044dbf85c643859495e25b"
          ]
        },
        "id": "YeYNvvJaHGB-",
        "outputId": "1fee573d-83c5-49ce-fac1-9f576188af65"
      },
      "execution_count": null,
      "outputs": [
        {
          "output_type": "stream",
          "name": "stdout",
          "text": [
            "Downloading https://www.cs.toronto.edu/~kriz/cifar-10-python.tar.gz to ./data/cifar-10-python.tar.gz\n"
          ]
        },
        {
          "output_type": "display_data",
          "data": {
            "text/plain": [
              "  0%|          | 0/170498071 [00:00<?, ?it/s]"
            ],
            "application/vnd.jupyter.widget-view+json": {
              "version_major": 2,
              "version_minor": 0,
              "model_id": "a245a31380d648568faf1be263cdc116"
            }
          },
          "metadata": {}
        },
        {
          "output_type": "stream",
          "name": "stdout",
          "text": [
            "Extracting ./data/cifar-10-python.tar.gz to ./data\n",
            "Files already downloaded and verified\n"
          ]
        }
      ]
    },
    {
      "cell_type": "code",
      "source": [
        "print(trainset[0][0].size())\n",
        "#데이터 셋은 이미지와 라벨이 동시에 들어있는 튜플 형태\n",
        "#trainset[0]은 학습 데이터의 첫번째 데이터로 이미지 한 장과 라벨 숫자 하나가 저장\n",
        "#trainset[0][0]은 이미지, trainset[0][1]은 라벨\n",
        "\n",
        "#(채널 수(RGB이미지)) x (너비) x (높이)"
      ],
      "metadata": {
        "colab": {
          "base_uri": "https://localhost:8080/"
        },
        "id": "3u1R6mGOHGEd",
        "outputId": "96e2bc8a-47b9-4e03-d22c-dbd6f36f3156"
      },
      "execution_count": null,
      "outputs": [
        {
          "output_type": "stream",
          "name": "stdout",
          "text": [
            "torch.Size([3, 16, 16])\n"
          ]
        }
      ]
    },
    {
      "cell_type": "code",
      "source": [
        "#DataLoader는 데이터를 미니 배치 형태로 만들어줌\n",
        "trainloader = DataLoader(trainset, batch_size=50, shuffle=True)\n",
        "testloader = DataLoader(testset, batch_size=50, shuffle=False)"
      ],
      "metadata": {
        "id": "5R_PyBE9Labm"
      },
      "execution_count": null,
      "outputs": []
    },
    {
      "cell_type": "code",
      "source": [
        "#CIFAR10의 학습 이미지는 50000장, 배치사이즈는 50장 => 배치의 개수는 1000\n",
        "len(trainloader)"
      ],
      "metadata": {
        "colab": {
          "base_uri": "https://localhost:8080/"
        },
        "id": "0_va0hl8LaeE",
        "outputId": "701fe0f0-313d-4e3e-c674-f1fd2cea1236"
      },
      "execution_count": null,
      "outputs": [
        {
          "output_type": "execute_result",
          "data": {
            "text/plain": [
              "1000"
            ]
          },
          "metadata": {},
          "execution_count": 101
        }
      ]
    },
    {
      "cell_type": "code",
      "source": [
        "images, labels = next(iter(trainloader))\n",
        "print(images.size()) #trainloader의 첫번째 배치를 불러옴\n",
        "#(배치크기) x (채널 수) x (너비) x (높이)"
      ],
      "metadata": {
        "colab": {
          "base_uri": "https://localhost:8080/"
        },
        "id": "E8eL8bcKLagy",
        "outputId": "004cb90d-5baf-41ae-c65c-538bfe7bce25"
      },
      "execution_count": null,
      "outputs": [
        {
          "output_type": "stream",
          "name": "stdout",
          "text": [
            "torch.Size([50, 3, 16, 16])\n"
          ]
        }
      ]
    },
    {
      "cell_type": "code",
      "source": [
        "#images[1]의 크기는(3,16,16)\n",
        "#그림을 그려주기 위해서 채널 수가 가장 뒤로 가는 형태인 (16, 16, 3)으로 만들어야함\n",
        "#permute(1,2,0)은 기존 차원의 위치인 0,1,2를 1,2,0으로 바꾸는 함수\n",
        "#마지막으로 numpy()를 이용해 넘파이 배열로 변환환\n",
        "oneshot = images[1].permute(1,2,0).numpy()\n",
        "plt.figure(figsize=(2,2))\n",
        "plt.imshow(oneshot)\n",
        "plt.axis('off')\n",
        "plt.show()"
      ],
      "metadata": {
        "colab": {
          "base_uri": "https://localhost:8080/",
          "height": 140
        },
        "id": "BnvaywYnLajd",
        "outputId": "7a4ce956-1b30-4bd2-e25a-5c2d4f1549e8"
      },
      "execution_count": null,
      "outputs": [
        {
          "output_type": "display_data",
          "data": {
            "text/plain": [
              "<Figure size 144x144 with 1 Axes>"
            ],
            "image/png": "[encoded data removed]"
          },
          "metadata": {
            "needs_background": "light"
          }
        }
      ]
    },
    {
      "cell_type": "markdown",
      "source": [
        "# **4.3.2) 같은 클래스 별로 폴더를 정리한 경우:**"
      ],
      "metadata": {
        "id": "rnuYzZXpNWDd"
      }
    },
    {
      "cell_type": "markdown",
      "source": [
        "데이터가 같은 클래스 별로 미리 폴더를 정리한 경우, ImageFolder 하나로 개인 데이터를 사용할 수 있다.\n",
        "또한 별도의 라벨링이 필요 없으며 폴더 별로 자동으로 라벨링을 한다.\n",
        "\n",
        "예를 들어 class 폴더에 tiger, lion 폴더(./class/tiger와 ./class/lion)를 미리 만든다.\n",
        "마지막으로 ImageFolder에 상위 폴더 ./class를 입력하면 이미지와 라벨이 정리되어 데이터를 불러온다.\n",
        "\n"
      ],
      "metadata": {
        "id": "it9ckXBnON7M"
      }
    },
    {
      "cell_type": "code",
      "source": [
        "transf = tr.Compose([tr.Resize(128), tr.ToTensor()])\n",
        "trainset = torchvision.datasets.ImageFolder(root='./class', transform=transf)\n",
        "trainloader = DataLoader(trainset, batch_size=1, shuffle=False)"
      ],
      "metadata": {
        "colab": {
          "base_uri": "https://localhost:8080/",
          "height": 368
        },
        "id": "CZwOoj0YLalz",
        "outputId": "3212f124-f5a0-40bc-af46-fa1a513adfe2"
      },
      "execution_count": null,
      "outputs": [
        {
          "output_type": "error",
          "ename": "FileNotFoundError",
          "evalue": "ignored",
          "traceback": [
            "\u001b[0;31m---------------------------------------------------------------------------\u001b[0m",
            "\u001b[0;31mFileNotFoundError\u001b[0m                         Traceback (most recent call last)",
            "\u001b[0;32m<ipython-input-108-37f7b9a50831>\u001b[0m in \u001b[0;36m<module>\u001b[0;34m\u001b[0m\n\u001b[1;32m      1\u001b[0m \u001b[0mtransf\u001b[0m \u001b[0;34m=\u001b[0m \u001b[0mtr\u001b[0m\u001b[0;34m.\u001b[0m\u001b[0mCompose\u001b[0m\u001b[0;34m(\u001b[0m\u001b[0;34m[\u001b[0m\u001b[0mtr\u001b[0m\u001b[0;34m.\u001b[0m\u001b[0mResize\u001b[0m\u001b[0;34m(\u001b[0m\u001b[0;36m128\u001b[0m\u001b[0;34m)\u001b[0m\u001b[0;34m,\u001b[0m \u001b[0mtr\u001b[0m\u001b[0;34m.\u001b[0m\u001b[0mToTensor\u001b[0m\u001b[0;34m(\u001b[0m\u001b[0;34m)\u001b[0m\u001b[0;34m]\u001b[0m\u001b[0;34m)\u001b[0m\u001b[0;34m\u001b[0m\u001b[0;34m\u001b[0m\u001b[0m\n\u001b[0;32m----> 2\u001b[0;31m \u001b[0mtrainset\u001b[0m \u001b[0;34m=\u001b[0m \u001b[0mtorchvision\u001b[0m\u001b[0;34m.\u001b[0m\u001b[0mdatasets\u001b[0m\u001b[0;34m.\u001b[0m\u001b[0mImageFolder\u001b[0m\u001b[0;34m(\u001b[0m\u001b[0mroot\u001b[0m\u001b[0;34m=\u001b[0m\u001b[0;34m'./class'\u001b[0m\u001b[0;34m,\u001b[0m \u001b[0mtransform\u001b[0m\u001b[0;34m=\u001b[0m\u001b[0mtransf\u001b[0m\u001b[0;34m)\u001b[0m\u001b[0;34m\u001b[0m\u001b[0;34m\u001b[0m\u001b[0m\n\u001b[0m\u001b[1;32m      3\u001b[0m \u001b[0mtrainloader\u001b[0m \u001b[0;34m=\u001b[0m \u001b[0mDataLoader\u001b[0m\u001b[0;34m(\u001b[0m\u001b[0mtrainset\u001b[0m\u001b[0;34m,\u001b[0m \u001b[0mbatch_size\u001b[0m\u001b[0;34m=\u001b[0m\u001b[0;36m1\u001b[0m\u001b[0;34m,\u001b[0m \u001b[0mshuffle\u001b[0m\u001b[0;34m=\u001b[0m\u001b[0;32mFalse\u001b[0m\u001b[0;34m)\u001b[0m\u001b[0;34m\u001b[0m\u001b[0;34m\u001b[0m\u001b[0m\n",
            "\u001b[0;32m/usr/local/lib/python3.8/dist-packages/torchvision/datasets/folder.py\u001b[0m in \u001b[0;36m__init__\u001b[0;34m(self, root, transform, target_transform, loader, is_valid_file)\u001b[0m\n\u001b[1;32m    307\u001b[0m         \u001b[0mis_valid_file\u001b[0m\u001b[0;34m:\u001b[0m \u001b[0mOptional\u001b[0m\u001b[0;34m[\u001b[0m\u001b[0mCallable\u001b[0m\u001b[0;34m[\u001b[0m\u001b[0;34m[\u001b[0m\u001b[0mstr\u001b[0m\u001b[0;34m]\u001b[0m\u001b[0;34m,\u001b[0m \u001b[0mbool\u001b[0m\u001b[0;34m]\u001b[0m\u001b[0;34m]\u001b[0m \u001b[0;34m=\u001b[0m \u001b[0;32mNone\u001b[0m\u001b[0;34m,\u001b[0m\u001b[0;34m\u001b[0m\u001b[0;34m\u001b[0m\u001b[0m\n\u001b[1;32m    308\u001b[0m     ):\n\u001b[0;32m--> 309\u001b[0;31m         super().__init__(\n\u001b[0m\u001b[1;32m    310\u001b[0m             \u001b[0mroot\u001b[0m\u001b[0;34m,\u001b[0m\u001b[0;34m\u001b[0m\u001b[0;34m\u001b[0m\u001b[0m\n\u001b[1;32m    311\u001b[0m             \u001b[0mloader\u001b[0m\u001b[0;34m,\u001b[0m\u001b[0;34m\u001b[0m\u001b[0;34m\u001b[0m\u001b[0m\n",
            "\u001b[0;32m/usr/local/lib/python3.8/dist-packages/torchvision/datasets/folder.py\u001b[0m in \u001b[0;36m__init__\u001b[0;34m(self, root, loader, extensions, transform, target_transform, is_valid_file)\u001b[0m\n\u001b[1;32m    142\u001b[0m     ) -> None:\n\u001b[1;32m    143\u001b[0m         \u001b[0msuper\u001b[0m\u001b[0;34m(\u001b[0m\u001b[0;34m)\u001b[0m\u001b[0;34m.\u001b[0m\u001b[0m__init__\u001b[0m\u001b[0;34m(\u001b[0m\u001b[0mroot\u001b[0m\u001b[0;34m,\u001b[0m \u001b[0mtransform\u001b[0m\u001b[0;34m=\u001b[0m\u001b[0mtransform\u001b[0m\u001b[0;34m,\u001b[0m \u001b[0mtarget_transform\u001b[0m\u001b[0;34m=\u001b[0m\u001b[0mtarget_transform\u001b[0m\u001b[0;34m)\u001b[0m\u001b[0;34m\u001b[0m\u001b[0;34m\u001b[0m\u001b[0m\n\u001b[0;32m--> 144\u001b[0;31m         \u001b[0mclasses\u001b[0m\u001b[0;34m,\u001b[0m \u001b[0mclass_to_idx\u001b[0m \u001b[0;34m=\u001b[0m \u001b[0mself\u001b[0m\u001b[0;34m.\u001b[0m\u001b[0mfind_classes\u001b[0m\u001b[0;34m(\u001b[0m\u001b[0mself\u001b[0m\u001b[0;34m.\u001b[0m\u001b[0mroot\u001b[0m\u001b[0;34m)\u001b[0m\u001b[0;34m\u001b[0m\u001b[0;34m\u001b[0m\u001b[0m\n\u001b[0m\u001b[1;32m    145\u001b[0m         \u001b[0msamples\u001b[0m \u001b[0;34m=\u001b[0m \u001b[0mself\u001b[0m\u001b[0;34m.\u001b[0m\u001b[0mmake_dataset\u001b[0m\u001b[0;34m(\u001b[0m\u001b[0mself\u001b[0m\u001b[0;34m.\u001b[0m\u001b[0mroot\u001b[0m\u001b[0;34m,\u001b[0m \u001b[0mclass_to_idx\u001b[0m\u001b[0;34m,\u001b[0m \u001b[0mextensions\u001b[0m\u001b[0;34m,\u001b[0m \u001b[0mis_valid_file\u001b[0m\u001b[0;34m)\u001b[0m\u001b[0;34m\u001b[0m\u001b[0;34m\u001b[0m\u001b[0m\n\u001b[1;32m    146\u001b[0m \u001b[0;34m\u001b[0m\u001b[0m\n",
            "\u001b[0;32m/usr/local/lib/python3.8/dist-packages/torchvision/datasets/folder.py\u001b[0m in \u001b[0;36mfind_classes\u001b[0;34m(self, directory)\u001b[0m\n\u001b[1;32m    216\u001b[0m             \u001b[0;34m(\u001b[0m\u001b[0mTuple\u001b[0m\u001b[0;34m[\u001b[0m\u001b[0mList\u001b[0m\u001b[0;34m[\u001b[0m\u001b[0mstr\u001b[0m\u001b[0;34m]\u001b[0m\u001b[0;34m,\u001b[0m \u001b[0mDict\u001b[0m\u001b[0;34m[\u001b[0m\u001b[0mstr\u001b[0m\u001b[0;34m,\u001b[0m \u001b[0mint\u001b[0m\u001b[0;34m]\u001b[0m\u001b[0;34m]\u001b[0m\u001b[0;34m)\u001b[0m\u001b[0;34m:\u001b[0m \u001b[0mList\u001b[0m \u001b[0mof\u001b[0m \u001b[0mall\u001b[0m \u001b[0mclasses\u001b[0m \u001b[0;32mand\u001b[0m \u001b[0mdictionary\u001b[0m \u001b[0mmapping\u001b[0m \u001b[0meach\u001b[0m \u001b[0;32mclass\u001b[0m \u001b[0mto\u001b[0m \u001b[0man\u001b[0m \u001b[0mindex\u001b[0m\u001b[0;34m.\u001b[0m\u001b[0;34m\u001b[0m\u001b[0;34m\u001b[0m\u001b[0m\n\u001b[1;32m    217\u001b[0m         \"\"\"\n\u001b[0;32m--> 218\u001b[0;31m         \u001b[0;32mreturn\u001b[0m \u001b[0mfind_classes\u001b[0m\u001b[0;34m(\u001b[0m\u001b[0mdirectory\u001b[0m\u001b[0;34m)\u001b[0m\u001b[0;34m\u001b[0m\u001b[0;34m\u001b[0m\u001b[0m\n\u001b[0m\u001b[1;32m    219\u001b[0m \u001b[0;34m\u001b[0m\u001b[0m\n\u001b[1;32m    220\u001b[0m     \u001b[0;32mdef\u001b[0m \u001b[0m__getitem__\u001b[0m\u001b[0;34m(\u001b[0m\u001b[0mself\u001b[0m\u001b[0;34m,\u001b[0m \u001b[0mindex\u001b[0m\u001b[0;34m:\u001b[0m \u001b[0mint\u001b[0m\u001b[0;34m)\u001b[0m \u001b[0;34m->\u001b[0m \u001b[0mTuple\u001b[0m\u001b[0;34m[\u001b[0m\u001b[0mAny\u001b[0m\u001b[0;34m,\u001b[0m \u001b[0mAny\u001b[0m\u001b[0;34m]\u001b[0m\u001b[0;34m:\u001b[0m\u001b[0;34m\u001b[0m\u001b[0;34m\u001b[0m\u001b[0m\n",
            "\u001b[0;32m/usr/local/lib/python3.8/dist-packages/torchvision/datasets/folder.py\u001b[0m in \u001b[0;36mfind_classes\u001b[0;34m(directory)\u001b[0m\n\u001b[1;32m     38\u001b[0m     \u001b[0mSee\u001b[0m \u001b[0;34m:\u001b[0m\u001b[0;32mclass\u001b[0m\u001b[0;34m:\u001b[0m\u001b[0;31m`\u001b[0m\u001b[0mDatasetFolder\u001b[0m\u001b[0;31m`\u001b[0m \u001b[0;32mfor\u001b[0m \u001b[0mdetails\u001b[0m\u001b[0;34m.\u001b[0m\u001b[0;34m\u001b[0m\u001b[0;34m\u001b[0m\u001b[0m\n\u001b[1;32m     39\u001b[0m     \"\"\"\n\u001b[0;32m---> 40\u001b[0;31m     \u001b[0mclasses\u001b[0m \u001b[0;34m=\u001b[0m \u001b[0msorted\u001b[0m\u001b[0;34m(\u001b[0m\u001b[0mentry\u001b[0m\u001b[0;34m.\u001b[0m\u001b[0mname\u001b[0m \u001b[0;32mfor\u001b[0m \u001b[0mentry\u001b[0m \u001b[0;32min\u001b[0m \u001b[0mos\u001b[0m\u001b[0;34m.\u001b[0m\u001b[0mscandir\u001b[0m\u001b[0;34m(\u001b[0m\u001b[0mdirectory\u001b[0m\u001b[0;34m)\u001b[0m \u001b[0;32mif\u001b[0m \u001b[0mentry\u001b[0m\u001b[0;34m.\u001b[0m\u001b[0mis_dir\u001b[0m\u001b[0;34m(\u001b[0m\u001b[0;34m)\u001b[0m\u001b[0;34m)\u001b[0m\u001b[0;34m\u001b[0m\u001b[0;34m\u001b[0m\u001b[0m\n\u001b[0m\u001b[1;32m     41\u001b[0m     \u001b[0;32mif\u001b[0m \u001b[0;32mnot\u001b[0m \u001b[0mclasses\u001b[0m\u001b[0;34m:\u001b[0m\u001b[0;34m\u001b[0m\u001b[0;34m\u001b[0m\u001b[0m\n\u001b[1;32m     42\u001b[0m         \u001b[0;32mraise\u001b[0m \u001b[0mFileNotFoundError\u001b[0m\u001b[0;34m(\u001b[0m\u001b[0;34mf\"Couldn't find any class folder in {directory}.\"\u001b[0m\u001b[0;34m)\u001b[0m\u001b[0;34m\u001b[0m\u001b[0;34m\u001b[0m\u001b[0m\n",
            "\u001b[0;31mFileNotFoundError\u001b[0m: [Errno 2] No such file or directory: './class'"
          ]
        }
      ]
    },
    {
      "cell_type": "markdown",
      "source": [
        "# **4.3.3) 정리되지 않은 커스텀 데이터 불러오기**"
      ],
      "metadata": {
        "id": "Yk5SWG1WOqga"
      }
    },
    {
      "cell_type": "code",
      "source": [],
      "metadata": {
        "id": "rnCMY6JOLao8"
      },
      "execution_count": null,
      "outputs": []
    },
    {
      "cell_type": "markdown",
      "source": [
        "# **4.3.4) 커스텀 데이터와 커스텀 전처리기 사용하기**"
      ],
      "metadata": {
        "id": "NF_NKSAfP2cf"
      }
    },
    {
      "cell_type": "markdown",
      "source": [
        "# **4.3.5) 커스텀 데이터와 파이토치 제공 전처리기 사용하기**"
      ],
      "metadata": {
        "id": "ATkmXFRHP8kN"
      }
    },
    {
      "cell_type": "markdown",
      "source": [
        "# **4.3.6) 커스텀 전처리와 파이토치에서 제공하는 전처리 함께 사용하기**"
      ],
      "metadata": {
        "id": "cSrBi1_iQD9x"
      }
    },
    {
      "cell_type": "code",
      "source": [],
      "metadata": {
        "id": "xLEsLiPMLarE"
      },
      "execution_count": null,
      "outputs": []
    },
    {
      "cell_type": "code",
      "source": [],
      "metadata": {
        "id": "xE4447QeLatn"
      },
      "execution_count": null,
      "outputs": []
    },
    {
      "cell_type": "code",
      "source": [],
      "metadata": {
        "id": "8yWlcyT-LawP"
      },
      "execution_count": null,
      "outputs": []
    },
    {
      "cell_type": "code",
      "source": [],
      "metadata": {
        "id": "WUCbCDFCLay2"
      },
      "execution_count": null,
      "outputs": []
    },
    {
      "cell_type": "code",
      "source": [],
      "metadata": {
        "id": "-3p9vkHzLa1X"
      },
      "execution_count": null,
      "outputs": []
    },
    {
      "cell_type": "code",
      "source": [],
      "metadata": {
        "id": "rfiUUHxxLa4L"
      },
      "execution_count": null,
      "outputs": []
    },
    {
      "cell_type": "code",
      "source": [],
      "metadata": {
        "id": "AbxuvBRrLa67"
      },
      "execution_count": null,
      "outputs": []
    },
    {
      "cell_type": "code",
      "source": [],
      "metadata": {
        "id": "qrPYeZuXLa99"
      },
      "execution_count": null,
      "outputs": []
    },
    {
      "cell_type": "code",
      "source": [],
      "metadata": {
        "id": "qASmGnNtLbAR"
      },
      "execution_count": null,
      "outputs": []
    },
    {
      "cell_type": "code",
      "source": [],
      "metadata": {
        "id": "2AR5-_fCLbC5"
      },
      "execution_count": null,
      "outputs": []
    },
    {
      "cell_type": "code",
      "source": [],
      "metadata": {
        "id": "Lw-DNjo4LbFy"
      },
      "execution_count": null,
      "outputs": []
    },
    {
      "cell_type": "code",
      "source": [],
      "metadata": {
        "id": "wxCDv5S7LbH5"
      },
      "execution_count": null,
      "outputs": []
    },
    {
      "cell_type": "code",
      "source": [],
      "metadata": {
        "id": "VGpFfHShLbKi"
      },
      "execution_count": null,
      "outputs": []
    },
    {
      "cell_type": "code",
      "source": [],
      "metadata": {
        "id": "tB1a8kvzLbNF"
      },
      "execution_count": null,
      "outputs": []
    },
    {
      "cell_type": "code",
      "source": [],
      "metadata": {
        "id": "CC-TpIztHGIC"
      },
      "execution_count": null,
      "outputs": []
    }
  ]
}